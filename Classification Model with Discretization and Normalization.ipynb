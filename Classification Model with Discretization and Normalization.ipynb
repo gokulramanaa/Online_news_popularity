{
 "cells": [
  {
   "cell_type": "code",
   "execution_count": 223,
   "metadata": {},
   "outputs": [],
   "source": [
    "import pandas as pd\n",
    "import numpy as np\n",
    "from sklearn.metrics import accuracy_score\n",
    "from sklearn.model_selection import train_test_split\n",
    "from sklearn.tree import DecisionTreeClassifier\n",
    "\n",
    "data = pd.read_csv('C:/Users/gokul/Documents/Machine_Learning/machine-learning-ex2/ex2/OnlineNewsPopularity1.csv')\n",
    "del data['url']\n",
    "\n",
    "data = data.rename(columns=lambda x: x.strip())\n"
   ]
  },
  {
   "cell_type": "code",
   "execution_count": 224,
   "metadata": {
    "collapsed": true
   },
   "outputs": [],
   "source": [
    "data1 = data.div(data.sum(axis=1), axis =0)"
   ]
  },
  {
   "cell_type": "code",
   "execution_count": 225,
   "metadata": {},
   "outputs": [],
   "source": [
    "#normalizing (continuous to discrete) , don't repeat more than once \n",
    "\n",
    "data['timedelta'] = (data['timedelta']<=164)*1 | ((data['timedelta']>164) & (data['timedelta']<=339))*2 | ((data['timedelta']>339) & (data['timedelta']<542))*3 |(data['timedelta']>=542)*4\n",
    "data['n_tokens_title'] = (data['n_tokens_title']<=9)*1 | ((data['n_tokens_title']>9) & (data['n_tokens_title']<=10))*2 | ((data['n_tokens_title']>10) & (data['n_tokens_title']<12))*3 |(data['n_tokens_title']>=12)*4\n",
    "data['n_tokens_content'] = (data['n_tokens_content']<=246)*1 | ((data['n_tokens_content']>246) & (data['n_tokens_content']<=409))*2 | ((data['n_tokens_content']>409) & (data['n_tokens_content']<716))*3 |(data['n_tokens_content']>=716)*4\n",
    "data['num_hrefs'] = (data['num_hrefs']<=4)*1 | ((data['num_hrefs']>4) & (data['num_hrefs']<=8))*2 | ((data['num_hrefs']>8) & (data['num_hrefs']<14))*3 |(data['num_hrefs']>=14)*4\n",
    "data['num_imgs'] = (data['num_imgs']<=2)*1 |  (data['num_imgs']>2)*2\n",
    "data['num_videos'] = (data['num_videos']<1)*1 |  (data['num_videos']>=1)*2\n",
    "data['num_keywords'] = (data['num_keywords']<=6)*1 | ((data['num_keywords']>6) & (data['num_keywords']<=7))*2 | ((data['num_keywords']>7) & (data['num_keywords']<9))*3 |(data['num_keywords']>=9)*4"
   ]
  },
  {
   "cell_type": "code",
   "execution_count": 226,
   "metadata": {},
   "outputs": [
    {
     "data": {
      "text/plain": [
       "(39644, 62)"
      ]
     },
     "execution_count": 226,
     "metadata": {},
     "output_type": "execute_result"
    }
   ],
   "source": [
    "data1['timedelta'] = data['timedelta']\n",
    "data1['n_tokens_title'] = data['n_tokens_title']\n",
    "data1['n_tokens_content'] = data['n_tokens_content']\n",
    "data1['num_hrefs'] = data['num_hrefs']\n",
    "data1['num_imgs'] = data['num_imgs']\n",
    "data1['num_videos'] = data['num_videos']\n",
    "data1['num_keywords'] = data['num_keywords']\n",
    "data1.describe()\n",
    "data1.shape"
   ]
  },
  {
   "cell_type": "code",
   "execution_count": 227,
   "metadata": {},
   "outputs": [
    {
     "data": {
      "text/plain": [
       "count    39644.000000\n",
       "mean         2.499697\n",
       "std          1.119784\n",
       "min          1.000000\n",
       "25%          1.000000\n",
       "50%          2.000000\n",
       "75%          4.000000\n",
       "max          4.000000\n",
       "Name: timedelta, dtype: float64"
      ]
     },
     "execution_count": 227,
     "metadata": {},
     "output_type": "execute_result"
    }
   ],
   "source": [
    "data1['timedelta'].describe()"
   ]
  },
  {
   "cell_type": "code",
   "execution_count": 228,
   "metadata": {},
   "outputs": [],
   "source": [
    "type(data1)\n",
    "data1.dtypes\n",
    "data_columns = data.columns\n",
    "data['weekday_is_monday'] = data['weekday_is_monday'].astype(int)\n",
    "data['weekday_is_tuesday'] = data['weekday_is_tuesday'].astype(int)\n",
    "data['weekday_is_wednesday'] = data['weekday_is_wednesday'].astype(int)\n",
    "data['weekday_is_thursday'] = data['weekday_is_thursday'].astype(int)\n",
    "data['weekday_is_friday'] = data['weekday_is_friday'].astype(int)\n",
    "data['weekday_is_saturday'] = data['weekday_is_saturday'].astype(int)\n",
    "data['weekday_is_sunday'] = data['weekday_is_sunday'].astype(int)"
   ]
  },
  {
   "cell_type": "code",
   "execution_count": 229,
   "metadata": {},
   "outputs": [],
   "source": [
    "del data1['log_share']\n",
    "del data1['Classify_2']\n",
    "#data1.columns\n",
    "import numpy as np\n",
    "data1['log_share'] = np.log2(data.shares)"
   ]
  },
  {
   "cell_type": "code",
   "execution_count": 230,
   "metadata": {},
   "outputs": [
    {
     "data": {
      "text/html": [
       "<div>\n",
       "<style>\n",
       "    .dataframe thead tr:only-child th {\n",
       "        text-align: right;\n",
       "    }\n",
       "\n",
       "    .dataframe thead th {\n",
       "        text-align: left;\n",
       "    }\n",
       "\n",
       "    .dataframe tbody tr th {\n",
       "        vertical-align: top;\n",
       "    }\n",
       "</style>\n",
       "<table border=\"1\" class=\"dataframe\">\n",
       "  <thead>\n",
       "    <tr style=\"text-align: right;\">\n",
       "      <th></th>\n",
       "      <th>timedelta</th>\n",
       "      <th>n_tokens_title</th>\n",
       "      <th>n_tokens_content</th>\n",
       "      <th>n_unique_tokens</th>\n",
       "      <th>n_non_stop_words</th>\n",
       "      <th>n_non_stop_unique_tokens</th>\n",
       "      <th>num_hrefs</th>\n",
       "      <th>num_self_hrefs</th>\n",
       "      <th>num_imgs</th>\n",
       "      <th>num_videos</th>\n",
       "      <th>...</th>\n",
       "      <th>max_positive_polarity</th>\n",
       "      <th>avg_negative_polarity</th>\n",
       "      <th>min_negative_polarity</th>\n",
       "      <th>max_negative_polarity</th>\n",
       "      <th>title_subjectivity</th>\n",
       "      <th>title_sentiment_polarity</th>\n",
       "      <th>abs_title_subjectivity</th>\n",
       "      <th>abs_title_sentiment_polarity</th>\n",
       "      <th>shares</th>\n",
       "      <th>log_share</th>\n",
       "    </tr>\n",
       "  </thead>\n",
       "  <tbody>\n",
       "    <tr>\n",
       "      <th>count</th>\n",
       "      <td>39644.000000</td>\n",
       "      <td>39644.000000</td>\n",
       "      <td>39644.000000</td>\n",
       "      <td>3.964400e+04</td>\n",
       "      <td>3.964400e+04</td>\n",
       "      <td>3.964400e+04</td>\n",
       "      <td>39644.000000</td>\n",
       "      <td>3.964400e+04</td>\n",
       "      <td>39644.000000</td>\n",
       "      <td>39644.000000</td>\n",
       "      <td>...</td>\n",
       "      <td>3.964400e+04</td>\n",
       "      <td>3.964400e+04</td>\n",
       "      <td>3.964400e+04</td>\n",
       "      <td>3.964400e+04</td>\n",
       "      <td>3.964400e+04</td>\n",
       "      <td>3.964400e+04</td>\n",
       "      <td>3.964400e+04</td>\n",
       "      <td>3.964400e+04</td>\n",
       "      <td>3.964400e+04</td>\n",
       "      <td>39644.000000</td>\n",
       "    </tr>\n",
       "    <tr>\n",
       "      <th>mean</th>\n",
       "      <td>2.499697</td>\n",
       "      <td>2.420442</td>\n",
       "      <td>2.499748</td>\n",
       "      <td>1.124453e-06</td>\n",
       "      <td>2.001114e-06</td>\n",
       "      <td>1.417305e-06</td>\n",
       "      <td>2.431894</td>\n",
       "      <td>6.161904e-06</td>\n",
       "      <td>1.291923</td>\n",
       "      <td>1.368732</td>\n",
       "      <td>...</td>\n",
       "      <td>1.514007e-06</td>\n",
       "      <td>-4.979859e-07</td>\n",
       "      <td>-9.690989e-07</td>\n",
       "      <td>-2.196927e-07</td>\n",
       "      <td>5.314102e-07</td>\n",
       "      <td>1.462971e-07</td>\n",
       "      <td>7.063799e-07</td>\n",
       "      <td>3.020870e-07</td>\n",
       "      <td>5.192440e-03</td>\n",
       "      <td>10.783936</td>\n",
       "    </tr>\n",
       "    <tr>\n",
       "      <th>std</th>\n",
       "      <td>1.119784</td>\n",
       "      <td>1.233442</td>\n",
       "      <td>1.118725</td>\n",
       "      <td>8.292824e-06</td>\n",
       "      <td>1.364938e-05</td>\n",
       "      <td>1.023815e-05</td>\n",
       "      <td>1.129743</td>\n",
       "      <td>3.212354e-05</td>\n",
       "      <td>0.454653</td>\n",
       "      <td>0.482467</td>\n",
       "      <td>...</td>\n",
       "      <td>9.232829e-06</td>\n",
       "      <td>2.921378e-06</td>\n",
       "      <td>5.559205e-06</td>\n",
       "      <td>1.761469e-06</td>\n",
       "      <td>4.319437e-06</td>\n",
       "      <td>3.376223e-06</td>\n",
       "      <td>5.750120e-06</td>\n",
       "      <td>3.365862e-06</td>\n",
       "      <td>2.059512e-02</td>\n",
       "      <td>1.342408</td>\n",
       "    </tr>\n",
       "    <tr>\n",
       "      <th>min</th>\n",
       "      <td>1.000000</td>\n",
       "      <td>1.000000</td>\n",
       "      <td>1.000000</td>\n",
       "      <td>0.000000e+00</td>\n",
       "      <td>0.000000e+00</td>\n",
       "      <td>0.000000e+00</td>\n",
       "      <td>1.000000</td>\n",
       "      <td>0.000000e+00</td>\n",
       "      <td>1.000000</td>\n",
       "      <td>1.000000</td>\n",
       "      <td>...</td>\n",
       "      <td>0.000000e+00</td>\n",
       "      <td>-2.014584e-04</td>\n",
       "      <td>-4.243680e-04</td>\n",
       "      <td>-2.014584e-04</td>\n",
       "      <td>0.000000e+00</td>\n",
       "      <td>-2.121840e-04</td>\n",
       "      <td>0.000000e+00</td>\n",
       "      <td>0.000000e+00</td>\n",
       "      <td>7.689477e-07</td>\n",
       "      <td>0.000000</td>\n",
       "    </tr>\n",
       "    <tr>\n",
       "      <th>25%</th>\n",
       "      <td>1.000000</td>\n",
       "      <td>1.000000</td>\n",
       "      <td>1.000000</td>\n",
       "      <td>4.093986e-07</td>\n",
       "      <td>8.142868e-07</td>\n",
       "      <td>5.354116e-07</td>\n",
       "      <td>1.000000</td>\n",
       "      <td>9.380781e-07</td>\n",
       "      <td>1.000000</td>\n",
       "      <td>1.000000</td>\n",
       "      <td>...</td>\n",
       "      <td>5.207079e-07</td>\n",
       "      <td>-3.199605e-07</td>\n",
       "      <td>-7.267370e-07</td>\n",
       "      <td>-1.308306e-07</td>\n",
       "      <td>0.000000e+00</td>\n",
       "      <td>0.000000e+00</td>\n",
       "      <td>1.481113e-07</td>\n",
       "      <td>0.000000e+00</td>\n",
       "      <td>8.631687e-04</td>\n",
       "      <td>9.885696</td>\n",
       "    </tr>\n",
       "    <tr>\n",
       "      <th>50%</th>\n",
       "      <td>2.000000</td>\n",
       "      <td>2.000000</td>\n",
       "      <td>2.000000</td>\n",
       "      <td>4.832700e-07</td>\n",
       "      <td>8.979894e-07</td>\n",
       "      <td>6.182126e-07</td>\n",
       "      <td>2.000000</td>\n",
       "      <td>2.379848e-06</td>\n",
       "      <td>1.000000</td>\n",
       "      <td>1.000000</td>\n",
       "      <td>...</td>\n",
       "      <td>7.287944e-07</td>\n",
       "      <td>-2.363235e-07</td>\n",
       "      <td>-4.764837e-07</td>\n",
       "      <td>-8.765518e-08</td>\n",
       "      <td>1.388362e-07</td>\n",
       "      <td>0.000000e+00</td>\n",
       "      <td>3.857073e-07</td>\n",
       "      <td>0.000000e+00</td>\n",
       "      <td>1.407194e-03</td>\n",
       "      <td>10.451211</td>\n",
       "    </tr>\n",
       "    <tr>\n",
       "      <th>75%</th>\n",
       "      <td>4.000000</td>\n",
       "      <td>4.000000</td>\n",
       "      <td>4.000000</td>\n",
       "      <td>5.805524e-07</td>\n",
       "      <td>9.839532e-07</td>\n",
       "      <td>7.253792e-07</td>\n",
       "      <td>4.000000</td>\n",
       "      <td>4.317544e-06</td>\n",
       "      <td>2.000000</td>\n",
       "      <td>2.000000</td>\n",
       "      <td>...</td>\n",
       "      <td>9.045937e-07</td>\n",
       "      <td>-1.689669e-07</td>\n",
       "      <td>-2.844277e-07</td>\n",
       "      <td>-4.647651e-08</td>\n",
       "      <td>4.684069e-07</td>\n",
       "      <td>1.483976e-07</td>\n",
       "      <td>4.637227e-07</td>\n",
       "      <td>2.367389e-07</td>\n",
       "      <td>3.267052e-03</td>\n",
       "      <td>11.451211</td>\n",
       "    </tr>\n",
       "    <tr>\n",
       "      <th>max</th>\n",
       "      <td>4.000000</td>\n",
       "      <td>4.000000</td>\n",
       "      <td>4.000000</td>\n",
       "      <td>5.725148e-04</td>\n",
       "      <td>8.510135e-04</td>\n",
       "      <td>6.715829e-04</td>\n",
       "      <td>4.000000</td>\n",
       "      <td>1.520112e-03</td>\n",
       "      <td>2.000000</td>\n",
       "      <td>2.000000</td>\n",
       "      <td>...</td>\n",
       "      <td>6.406967e-04</td>\n",
       "      <td>0.000000e+00</td>\n",
       "      <td>0.000000e+00</td>\n",
       "      <td>0.000000e+00</td>\n",
       "      <td>5.134154e-04</td>\n",
       "      <td>5.134154e-04</td>\n",
       "      <td>3.718980e-04</td>\n",
       "      <td>5.134154e-04</td>\n",
       "      <td>8.308337e-01</td>\n",
       "      <td>19.685686</td>\n",
       "    </tr>\n",
       "  </tbody>\n",
       "</table>\n",
       "<p>8 rows × 61 columns</p>\n",
       "</div>"
      ],
      "text/plain": [
       "          timedelta  n_tokens_title  n_tokens_content  n_unique_tokens  \\\n",
       "count  39644.000000    39644.000000      39644.000000     3.964400e+04   \n",
       "mean       2.499697        2.420442          2.499748     1.124453e-06   \n",
       "std        1.119784        1.233442          1.118725     8.292824e-06   \n",
       "min        1.000000        1.000000          1.000000     0.000000e+00   \n",
       "25%        1.000000        1.000000          1.000000     4.093986e-07   \n",
       "50%        2.000000        2.000000          2.000000     4.832700e-07   \n",
       "75%        4.000000        4.000000          4.000000     5.805524e-07   \n",
       "max        4.000000        4.000000          4.000000     5.725148e-04   \n",
       "\n",
       "       n_non_stop_words  n_non_stop_unique_tokens     num_hrefs  \\\n",
       "count      3.964400e+04              3.964400e+04  39644.000000   \n",
       "mean       2.001114e-06              1.417305e-06      2.431894   \n",
       "std        1.364938e-05              1.023815e-05      1.129743   \n",
       "min        0.000000e+00              0.000000e+00      1.000000   \n",
       "25%        8.142868e-07              5.354116e-07      1.000000   \n",
       "50%        8.979894e-07              6.182126e-07      2.000000   \n",
       "75%        9.839532e-07              7.253792e-07      4.000000   \n",
       "max        8.510135e-04              6.715829e-04      4.000000   \n",
       "\n",
       "       num_self_hrefs      num_imgs    num_videos      ...       \\\n",
       "count    3.964400e+04  39644.000000  39644.000000      ...        \n",
       "mean     6.161904e-06      1.291923      1.368732      ...        \n",
       "std      3.212354e-05      0.454653      0.482467      ...        \n",
       "min      0.000000e+00      1.000000      1.000000      ...        \n",
       "25%      9.380781e-07      1.000000      1.000000      ...        \n",
       "50%      2.379848e-06      1.000000      1.000000      ...        \n",
       "75%      4.317544e-06      2.000000      2.000000      ...        \n",
       "max      1.520112e-03      2.000000      2.000000      ...        \n",
       "\n",
       "       max_positive_polarity  avg_negative_polarity  min_negative_polarity  \\\n",
       "count           3.964400e+04           3.964400e+04           3.964400e+04   \n",
       "mean            1.514007e-06          -4.979859e-07          -9.690989e-07   \n",
       "std             9.232829e-06           2.921378e-06           5.559205e-06   \n",
       "min             0.000000e+00          -2.014584e-04          -4.243680e-04   \n",
       "25%             5.207079e-07          -3.199605e-07          -7.267370e-07   \n",
       "50%             7.287944e-07          -2.363235e-07          -4.764837e-07   \n",
       "75%             9.045937e-07          -1.689669e-07          -2.844277e-07   \n",
       "max             6.406967e-04           0.000000e+00           0.000000e+00   \n",
       "\n",
       "       max_negative_polarity  title_subjectivity  title_sentiment_polarity  \\\n",
       "count           3.964400e+04        3.964400e+04              3.964400e+04   \n",
       "mean           -2.196927e-07        5.314102e-07              1.462971e-07   \n",
       "std             1.761469e-06        4.319437e-06              3.376223e-06   \n",
       "min            -2.014584e-04        0.000000e+00             -2.121840e-04   \n",
       "25%            -1.308306e-07        0.000000e+00              0.000000e+00   \n",
       "50%            -8.765518e-08        1.388362e-07              0.000000e+00   \n",
       "75%            -4.647651e-08        4.684069e-07              1.483976e-07   \n",
       "max             0.000000e+00        5.134154e-04              5.134154e-04   \n",
       "\n",
       "       abs_title_subjectivity  abs_title_sentiment_polarity        shares  \\\n",
       "count            3.964400e+04                  3.964400e+04  3.964400e+04   \n",
       "mean             7.063799e-07                  3.020870e-07  5.192440e-03   \n",
       "std              5.750120e-06                  3.365862e-06  2.059512e-02   \n",
       "min              0.000000e+00                  0.000000e+00  7.689477e-07   \n",
       "25%              1.481113e-07                  0.000000e+00  8.631687e-04   \n",
       "50%              3.857073e-07                  0.000000e+00  1.407194e-03   \n",
       "75%              4.637227e-07                  2.367389e-07  3.267052e-03   \n",
       "max              3.718980e-04                  5.134154e-04  8.308337e-01   \n",
       "\n",
       "          log_share  \n",
       "count  39644.000000  \n",
       "mean      10.783936  \n",
       "std        1.342408  \n",
       "min        0.000000  \n",
       "25%        9.885696  \n",
       "50%       10.451211  \n",
       "75%       11.451211  \n",
       "max       19.685686  \n",
       "\n",
       "[8 rows x 61 columns]"
      ]
     },
     "execution_count": 230,
     "metadata": {},
     "output_type": "execute_result"
    }
   ],
   "source": [
    "data1['log_share'].describe()\n",
    "data1.describe()"
   ]
  },
  {
   "cell_type": "code",
   "execution_count": 231,
   "metadata": {},
   "outputs": [],
   "source": [
    "data1['share_rank'] = (data1['log_share']<=10.45)*1 |(data1['log_share']>10.45)*2"
   ]
  },
  {
   "cell_type": "code",
   "execution_count": 232,
   "metadata": {},
   "outputs": [
    {
     "data": {
      "image/png": "[encoded data removed]",
      "text/plain": [
       "<matplotlib.figure.Figure at 0x1fe47d91e48>"
      ]
     },
     "metadata": {},
     "output_type": "display_data"
    }
   ],
   "source": [
    "import numpy as np\n",
    "import matplotlib.mlab as mlab\n",
    "import matplotlib.pyplot as plt\n",
    "\n",
    "plt.hist(data1['share_rank'])\n",
    "plt.xlabel('Rank')\n",
    "plt.ylabel('No of shares')\n",
    "plt.title('log_news_share distribution')\n",
    "plt.show()"
   ]
  },
  {
   "cell_type": "code",
   "execution_count": 233,
   "metadata": {},
   "outputs": [
    {
     "data": {
      "text/plain": [
       "count    39644.000000\n",
       "mean         1.533599\n",
       "std          0.498876\n",
       "min          1.000000\n",
       "25%          1.000000\n",
       "50%          2.000000\n",
       "75%          2.000000\n",
       "max          2.000000\n",
       "Name: share_rank, dtype: float64"
      ]
     },
     "execution_count": 233,
     "metadata": {},
     "output_type": "execute_result"
    }
   ],
   "source": [
    "data1['share_rank'].describe()"
   ]
  },
  {
   "cell_type": "code",
   "execution_count": 234,
   "metadata": {},
   "outputs": [],
   "source": [
    "data1.columns\n",
    "del data1['shares']\n",
    "del data1['log_share']\n",
    "Influence_feature = ['timedelta', 'n_tokens_title', 'n_tokens_content', 'num_hrefs',\n",
    "       'num_self_hrefs', 'num_imgs', 'num_videos', 'average_token_length',\n",
    "       'num_keywords', 'data_channel_is_lifestyle',\n",
    "       'data_channel_is_entertainment', 'data_channel_is_bus',\n",
    "       'data_channel_is_socmed', 'data_channel_is_tech',\n",
    "       'data_channel_is_world', 'weekday_is_monday',\n",
    "       'weekday_is_tuesday', 'weekday_is_wednesday', 'weekday_is_thursday',\n",
    "       'weekday_is_friday', 'weekday_is_saturday', 'weekday_is_sunday',\n",
    "       'global_subjectivity', 'global_sentiment_polarity',\n",
    "       'global_rate_positive_words', 'global_rate_negative_words',\n",
    "       'rate_positive_words', 'rate_negative_words', 'avg_positive_polarity',\n",
    "       'avg_negative_polarity', 'max_negative_polarity',\n",
    "       'abs_title_subjectivity', 'abs_title_sentiment_polarity']"
   ]
  },
  {
   "cell_type": "code",
   "execution_count": 235,
   "metadata": {},
   "outputs": [
    {
     "data": {
      "text/plain": [
       "pandas.core.frame.DataFrame"
      ]
     },
     "execution_count": 235,
     "metadata": {},
     "output_type": "execute_result"
    }
   ],
   "source": [
    "y = data1[['share_rank']].copy()\n",
    "type(y)"
   ]
  },
  {
   "cell_type": "code",
   "execution_count": 236,
   "metadata": {},
   "outputs": [],
   "source": [
    "X = data1[Influence_feature].copy()\n"
   ]
  },
  {
   "cell_type": "code",
   "execution_count": 237,
   "metadata": {
    "collapsed": true
   },
   "outputs": [],
   "source": [
    "X_train, X_test, y_train, y_test = train_test_split(X, y, test_size=0.10, random_state=324)"
   ]
  },
  {
   "cell_type": "code",
   "execution_count": 238,
   "metadata": {},
   "outputs": [
    {
     "data": {
      "text/plain": [
       "DecisionTreeClassifier(class_weight=None, criterion='gini', max_depth=None,\n",
       "            max_features=None, max_leaf_nodes=10,\n",
       "            min_impurity_decrease=0.0, min_impurity_split=None,\n",
       "            min_samples_leaf=1, min_samples_split=2,\n",
       "            min_weight_fraction_leaf=0.0, presort=False, random_state=0,\n",
       "            splitter='best')"
      ]
     },
     "execution_count": 238,
     "metadata": {},
     "output_type": "execute_result"
    }
   ],
   "source": [
    "rank_classifier = DecisionTreeClassifier(max_leaf_nodes=10, random_state=0)\n",
    "rank_classifier.fit(X_train,y_train)"
   ]
  },
  {
   "cell_type": "code",
   "execution_count": 239,
   "metadata": {
    "collapsed": true
   },
   "outputs": [],
   "source": [
    "Predictions = rank_classifier.predict(X_test)"
   ]
  },
  {
   "cell_type": "code",
   "execution_count": 240,
   "metadata": {},
   "outputs": [
    {
     "data": {
      "text/plain": [
       "array([2, 1, 1, 1, 1, 2, 2, 1, 2, 1], dtype=int32)"
      ]
     },
     "execution_count": 240,
     "metadata": {},
     "output_type": "execute_result"
    }
   ],
   "source": [
    "Predictions[:10]"
   ]
  },
  {
   "cell_type": "code",
   "execution_count": 217,
   "metadata": {},
   "outputs": [
    {
     "data": {
      "text/plain": [
       "35205    2\n",
       "15882    2\n",
       "23584    1\n",
       "25354    1\n",
       "25593    1\n",
       "22305    2\n",
       "27533    2\n",
       "36710    1\n",
       "12978    1\n",
       "13322    1\n",
       "Name: share_rank, dtype: int32"
      ]
     },
     "execution_count": 217,
     "metadata": {},
     "output_type": "execute_result"
    }
   ],
   "source": [
    "y_test['share_rank'][:10]"
   ]
  },
  {
   "cell_type": "code",
   "execution_count": 241,
   "metadata": {},
   "outputs": [
    {
     "data": {
      "text/plain": [
       "0.62194199243379567"
      ]
     },
     "execution_count": 241,
     "metadata": {},
     "output_type": "execute_result"
    }
   ],
   "source": [
    "accuracy_score(y_true = y_test, y_pred = Predictions)"
   ]
  },
  {
   "cell_type": "code",
   "execution_count": null,
   "metadata": {
    "collapsed": true
   },
   "outputs": [],
   "source": []
  }
 ],
 "metadata": {
  "kernelspec": {
   "display_name": "Python 3",
   "language": "python",
   "name": "python3"
  },
  "language_info": {
   "codemirror_mode": {
    "name": "ipython",
    "version": 3
   },
   "file_extension": ".py",
   "mimetype": "text/x-python",
   "name": "python",
   "nbconvert_exporter": "python",
   "pygments_lexer": "ipython3",
   "version": "3.6.3"
  }
 },
 "nbformat": 4,
 "nbformat_minor": 2
}
