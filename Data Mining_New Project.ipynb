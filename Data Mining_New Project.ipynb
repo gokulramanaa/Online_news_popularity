{
 "cells": [
  {
   "cell_type": "code",
   "execution_count": 1,
   "metadata": {
    "collapsed": true
   },
   "outputs": [],
   "source": [
    "import pandas as pd\n",
    "import numpy as np\n",
    "from sklearn.metrics import accuracy_score\n",
    "from sklearn.model_selection import train_test_split\n",
    "from sklearn.tree import DecisionTreeClassifier\n",
    "\n",
    "data = pd.read_csv('C:/Users/gokul/Documents/Projects/Online_News_Popularity/OnlineNewsPopularity.csv')\n",
    "del data['url']\n",
    "\n",
    "data = data.rename(columns=lambda x: x.strip())\n",
    "\n",
    "data['log_shares'] = np.log10(data.shares)\n",
    "\n",
    "data_columns = data.columns\n",
    "data['weekday_is_monday'] = data['weekday_is_monday'].astype(int)\n",
    "data['weekday_is_tuesday'] = data['weekday_is_tuesday'].astype(int)\n",
    "data['weekday_is_wednesday'] = data['weekday_is_wednesday'].astype(int)\n",
    "data['weekday_is_thursday'] = data['weekday_is_thursday'].astype(int)\n",
    "data['weekday_is_friday'] = data['weekday_is_friday'].astype(int)\n",
    "data['weekday_is_saturday'] = data['weekday_is_saturday'].astype(int)\n",
    "data['weekday_is_sunday'] = data['weekday_is_sunday'].astype(int)"
   ]
  },
  {
   "cell_type": "code",
   "execution_count": 184,
   "metadata": {
    "collapsed": true
   },
   "outputs": [],
   "source": [
    "data = pd.read_csv('C:/Users/gokul/Documents/Projects/Online_News_Popularity/OnlineNewsPopularity.csv')"
   ]
  },
  {
   "cell_type": "code",
   "execution_count": 185,
   "metadata": {},
   "outputs": [
    {
     "data": {
      "text/html": [
       "<div>\n",
       "<style>\n",
       "    .dataframe thead tr:only-child th {\n",
       "        text-align: right;\n",
       "    }\n",
       "\n",
       "    .dataframe thead th {\n",
       "        text-align: left;\n",
       "    }\n",
       "\n",
       "    .dataframe tbody tr th {\n",
       "        vertical-align: top;\n",
       "    }\n",
       "</style>\n",
       "<table border=\"1\" class=\"dataframe\">\n",
       "  <thead>\n",
       "    <tr style=\"text-align: right;\">\n",
       "      <th></th>\n",
       "      <th>url</th>\n",
       "      <th>timedelta</th>\n",
       "      <th>n_tokens_title</th>\n",
       "      <th>n_tokens_content</th>\n",
       "      <th>n_unique_tokens</th>\n",
       "      <th>n_non_stop_words</th>\n",
       "      <th>n_non_stop_unique_tokens</th>\n",
       "      <th>num_hrefs</th>\n",
       "      <th>num_self_hrefs</th>\n",
       "      <th>num_imgs</th>\n",
       "      <th>...</th>\n",
       "      <th>min_positive_polarity</th>\n",
       "      <th>max_positive_polarity</th>\n",
       "      <th>avg_negative_polarity</th>\n",
       "      <th>min_negative_polarity</th>\n",
       "      <th>max_negative_polarity</th>\n",
       "      <th>title_subjectivity</th>\n",
       "      <th>title_sentiment_polarity</th>\n",
       "      <th>abs_title_subjectivity</th>\n",
       "      <th>abs_title_sentiment_polarity</th>\n",
       "      <th>shares</th>\n",
       "    </tr>\n",
       "  </thead>\n",
       "  <tbody>\n",
       "    <tr>\n",
       "      <th>0</th>\n",
       "      <td>http://mashable.com/2013/01/07/amazon-instant-...</td>\n",
       "      <td>731.0</td>\n",
       "      <td>12.0</td>\n",
       "      <td>219.0</td>\n",
       "      <td>0.663594</td>\n",
       "      <td>1.0</td>\n",
       "      <td>0.815385</td>\n",
       "      <td>4.0</td>\n",
       "      <td>2.0</td>\n",
       "      <td>1.0</td>\n",
       "      <td>...</td>\n",
       "      <td>0.100000</td>\n",
       "      <td>0.7</td>\n",
       "      <td>-0.35000</td>\n",
       "      <td>-0.600</td>\n",
       "      <td>-0.2</td>\n",
       "      <td>0.5</td>\n",
       "      <td>-0.1875</td>\n",
       "      <td>0.0</td>\n",
       "      <td>0.1875</td>\n",
       "      <td>593</td>\n",
       "    </tr>\n",
       "    <tr>\n",
       "      <th>1</th>\n",
       "      <td>http://mashable.com/2013/01/07/ap-samsung-spon...</td>\n",
       "      <td>731.0</td>\n",
       "      <td>9.0</td>\n",
       "      <td>255.0</td>\n",
       "      <td>0.604743</td>\n",
       "      <td>1.0</td>\n",
       "      <td>0.791946</td>\n",
       "      <td>3.0</td>\n",
       "      <td>1.0</td>\n",
       "      <td>1.0</td>\n",
       "      <td>...</td>\n",
       "      <td>0.033333</td>\n",
       "      <td>0.7</td>\n",
       "      <td>-0.11875</td>\n",
       "      <td>-0.125</td>\n",
       "      <td>-0.1</td>\n",
       "      <td>0.0</td>\n",
       "      <td>0.0000</td>\n",
       "      <td>0.5</td>\n",
       "      <td>0.0000</td>\n",
       "      <td>711</td>\n",
       "    </tr>\n",
       "  </tbody>\n",
       "</table>\n",
       "<p>2 rows × 61 columns</p>\n",
       "</div>"
      ],
      "text/plain": [
       "                                                 url   timedelta  \\\n",
       "0  http://mashable.com/2013/01/07/amazon-instant-...       731.0   \n",
       "1  http://mashable.com/2013/01/07/ap-samsung-spon...       731.0   \n",
       "\n",
       "    n_tokens_title   n_tokens_content   n_unique_tokens   n_non_stop_words  \\\n",
       "0             12.0              219.0          0.663594                1.0   \n",
       "1              9.0              255.0          0.604743                1.0   \n",
       "\n",
       "    n_non_stop_unique_tokens   num_hrefs   num_self_hrefs   num_imgs   ...     \\\n",
       "0                   0.815385         4.0              2.0        1.0   ...      \n",
       "1                   0.791946         3.0              1.0        1.0   ...      \n",
       "\n",
       "    min_positive_polarity   max_positive_polarity   avg_negative_polarity  \\\n",
       "0                0.100000                     0.7                -0.35000   \n",
       "1                0.033333                     0.7                -0.11875   \n",
       "\n",
       "    min_negative_polarity   max_negative_polarity   title_subjectivity  \\\n",
       "0                  -0.600                    -0.2                  0.5   \n",
       "1                  -0.125                    -0.1                  0.0   \n",
       "\n",
       "    title_sentiment_polarity   abs_title_subjectivity  \\\n",
       "0                    -0.1875                      0.0   \n",
       "1                     0.0000                      0.5   \n",
       "\n",
       "    abs_title_sentiment_polarity   shares  \n",
       "0                         0.1875      593  \n",
       "1                         0.0000      711  \n",
       "\n",
       "[2 rows x 61 columns]"
      ]
     },
     "execution_count": 185,
     "metadata": {},
     "output_type": "execute_result"
    }
   ],
   "source": [
    "data.head(2)"
   ]
  },
  {
   "cell_type": "code",
   "execution_count": 3,
   "metadata": {
    "collapsed": true
   },
   "outputs": [],
   "source": [
    "#data.shape"
   ]
  },
  {
   "cell_type": "code",
   "execution_count": 186,
   "metadata": {},
   "outputs": [
    {
     "data": {
      "text/plain": [
       "pandas.core.frame.DataFrame"
      ]
     },
     "execution_count": 186,
     "metadata": {},
     "output_type": "execute_result"
    }
   ],
   "source": [
    "type(data)"
   ]
  },
  {
   "cell_type": "code",
   "execution_count": 187,
   "metadata": {},
   "outputs": [
    {
     "data": {
      "text/plain": [
       "url                               False\n",
       " timedelta                        False\n",
       " n_tokens_title                   False\n",
       " n_tokens_content                 False\n",
       " n_unique_tokens                  False\n",
       " n_non_stop_words                 False\n",
       " n_non_stop_unique_tokens         False\n",
       " num_hrefs                        False\n",
       " num_self_hrefs                   False\n",
       " num_imgs                         False\n",
       " num_videos                       False\n",
       " average_token_length             False\n",
       " num_keywords                     False\n",
       " data_channel_is_lifestyle        False\n",
       " data_channel_is_entertainment    False\n",
       " data_channel_is_bus              False\n",
       " data_channel_is_socmed           False\n",
       " data_channel_is_tech             False\n",
       " data_channel_is_world            False\n",
       " kw_min_min                       False\n",
       " kw_max_min                       False\n",
       " kw_avg_min                       False\n",
       " kw_min_max                       False\n",
       " kw_max_max                       False\n",
       " kw_avg_max                       False\n",
       " kw_min_avg                       False\n",
       " kw_max_avg                       False\n",
       " kw_avg_avg                       False\n",
       " self_reference_min_shares        False\n",
       " self_reference_max_shares        False\n",
       "                                  ...  \n",
       " weekday_is_monday                False\n",
       " weekday_is_tuesday               False\n",
       " weekday_is_wednesday             False\n",
       " weekday_is_thursday              False\n",
       " weekday_is_friday                False\n",
       " weekday_is_saturday              False\n",
       " weekday_is_sunday                False\n",
       " is_weekend                       False\n",
       " LDA_00                           False\n",
       " LDA_01                           False\n",
       " LDA_02                           False\n",
       " LDA_03                           False\n",
       " LDA_04                           False\n",
       " global_subjectivity              False\n",
       " global_sentiment_polarity        False\n",
       " global_rate_positive_words       False\n",
       " global_rate_negative_words       False\n",
       " rate_positive_words              False\n",
       " rate_negative_words              False\n",
       " avg_positive_polarity            False\n",
       " min_positive_polarity            False\n",
       " max_positive_polarity            False\n",
       " avg_negative_polarity            False\n",
       " min_negative_polarity            False\n",
       " max_negative_polarity            False\n",
       " title_subjectivity               False\n",
       " title_sentiment_polarity         False\n",
       " abs_title_subjectivity           False\n",
       " abs_title_sentiment_polarity     False\n",
       " shares                           False\n",
       "Length: 61, dtype: bool"
      ]
     },
     "execution_count": 187,
     "metadata": {},
     "output_type": "execute_result"
    }
   ],
   "source": [
    "data.isnull().any() #there is no missing  values"
   ]
  },
  {
   "cell_type": "code",
   "execution_count": 188,
   "metadata": {
    "collapsed": true
   },
   "outputs": [],
   "source": [
    "del data['url']"
   ]
  },
  {
   "cell_type": "code",
   "execution_count": 189,
   "metadata": {},
   "outputs": [
    {
     "data": {
      "text/html": [
       "<div>\n",
       "<style>\n",
       "    .dataframe thead tr:only-child th {\n",
       "        text-align: right;\n",
       "    }\n",
       "\n",
       "    .dataframe thead th {\n",
       "        text-align: left;\n",
       "    }\n",
       "\n",
       "    .dataframe tbody tr th {\n",
       "        vertical-align: top;\n",
       "    }\n",
       "</style>\n",
       "<table border=\"1\" class=\"dataframe\">\n",
       "  <thead>\n",
       "    <tr style=\"text-align: right;\">\n",
       "      <th></th>\n",
       "      <th>timedelta</th>\n",
       "      <th>n_tokens_title</th>\n",
       "      <th>n_tokens_content</th>\n",
       "      <th>n_unique_tokens</th>\n",
       "      <th>n_non_stop_words</th>\n",
       "      <th>n_non_stop_unique_tokens</th>\n",
       "      <th>num_hrefs</th>\n",
       "      <th>num_self_hrefs</th>\n",
       "      <th>num_imgs</th>\n",
       "      <th>num_videos</th>\n",
       "      <th>...</th>\n",
       "      <th>min_positive_polarity</th>\n",
       "      <th>max_positive_polarity</th>\n",
       "      <th>avg_negative_polarity</th>\n",
       "      <th>min_negative_polarity</th>\n",
       "      <th>max_negative_polarity</th>\n",
       "      <th>title_subjectivity</th>\n",
       "      <th>title_sentiment_polarity</th>\n",
       "      <th>abs_title_subjectivity</th>\n",
       "      <th>abs_title_sentiment_polarity</th>\n",
       "      <th>shares</th>\n",
       "    </tr>\n",
       "  </thead>\n",
       "  <tbody>\n",
       "    <tr>\n",
       "      <th>0</th>\n",
       "      <td>731.0</td>\n",
       "      <td>12.0</td>\n",
       "      <td>219.0</td>\n",
       "      <td>0.663594</td>\n",
       "      <td>1.0</td>\n",
       "      <td>0.815385</td>\n",
       "      <td>4.0</td>\n",
       "      <td>2.0</td>\n",
       "      <td>1.0</td>\n",
       "      <td>0.0</td>\n",
       "      <td>...</td>\n",
       "      <td>0.100000</td>\n",
       "      <td>0.7</td>\n",
       "      <td>-0.35000</td>\n",
       "      <td>-0.600</td>\n",
       "      <td>-0.2</td>\n",
       "      <td>0.5</td>\n",
       "      <td>-0.1875</td>\n",
       "      <td>0.0</td>\n",
       "      <td>0.1875</td>\n",
       "      <td>593</td>\n",
       "    </tr>\n",
       "    <tr>\n",
       "      <th>1</th>\n",
       "      <td>731.0</td>\n",
       "      <td>9.0</td>\n",
       "      <td>255.0</td>\n",
       "      <td>0.604743</td>\n",
       "      <td>1.0</td>\n",
       "      <td>0.791946</td>\n",
       "      <td>3.0</td>\n",
       "      <td>1.0</td>\n",
       "      <td>1.0</td>\n",
       "      <td>0.0</td>\n",
       "      <td>...</td>\n",
       "      <td>0.033333</td>\n",
       "      <td>0.7</td>\n",
       "      <td>-0.11875</td>\n",
       "      <td>-0.125</td>\n",
       "      <td>-0.1</td>\n",
       "      <td>0.0</td>\n",
       "      <td>0.0000</td>\n",
       "      <td>0.5</td>\n",
       "      <td>0.0000</td>\n",
       "      <td>711</td>\n",
       "    </tr>\n",
       "  </tbody>\n",
       "</table>\n",
       "<p>2 rows × 60 columns</p>\n",
       "</div>"
      ],
      "text/plain": [
       "    timedelta   n_tokens_title   n_tokens_content   n_unique_tokens  \\\n",
       "0       731.0             12.0              219.0          0.663594   \n",
       "1       731.0              9.0              255.0          0.604743   \n",
       "\n",
       "    n_non_stop_words   n_non_stop_unique_tokens   num_hrefs   num_self_hrefs  \\\n",
       "0                1.0                   0.815385         4.0              2.0   \n",
       "1                1.0                   0.791946         3.0              1.0   \n",
       "\n",
       "    num_imgs   num_videos   ...      min_positive_polarity  \\\n",
       "0        1.0          0.0   ...                   0.100000   \n",
       "1        1.0          0.0   ...                   0.033333   \n",
       "\n",
       "    max_positive_polarity   avg_negative_polarity   min_negative_polarity  \\\n",
       "0                     0.7                -0.35000                  -0.600   \n",
       "1                     0.7                -0.11875                  -0.125   \n",
       "\n",
       "    max_negative_polarity   title_subjectivity   title_sentiment_polarity  \\\n",
       "0                    -0.2                  0.5                    -0.1875   \n",
       "1                    -0.1                  0.0                     0.0000   \n",
       "\n",
       "    abs_title_subjectivity   abs_title_sentiment_polarity   shares  \n",
       "0                      0.0                         0.1875      593  \n",
       "1                      0.5                         0.0000      711  \n",
       "\n",
       "[2 rows x 60 columns]"
      ]
     },
     "execution_count": 189,
     "metadata": {},
     "output_type": "execute_result"
    }
   ],
   "source": [
    "data.head(2)"
   ]
  },
  {
   "cell_type": "code",
   "execution_count": 190,
   "metadata": {},
   "outputs": [
    {
     "data": {
      "text/plain": [
       "(39644, 60)"
      ]
     },
     "execution_count": 190,
     "metadata": {},
     "output_type": "execute_result"
    }
   ],
   "source": [
    "data.shape"
   ]
  },
  {
   "cell_type": "code",
   "execution_count": 34,
   "metadata": {
    "collapsed": true
   },
   "outputs": [],
   "source": [
    "#data.dtypes\n",
    "#data.columns\n",
    "data[data['shares'] > 1000]\n",
    "## unknown error"
   ]
  },
  {
   "cell_type": "code",
   "execution_count": 191,
   "metadata": {},
   "outputs": [
    {
     "data": {
      "text/plain": [
       " timedelta                        float64\n",
       " n_tokens_title                   float64\n",
       " n_tokens_content                 float64\n",
       " n_unique_tokens                  float64\n",
       " n_non_stop_words                 float64\n",
       " n_non_stop_unique_tokens         float64\n",
       " num_hrefs                        float64\n",
       " num_self_hrefs                   float64\n",
       " num_imgs                         float64\n",
       " num_videos                       float64\n",
       " average_token_length             float64\n",
       " num_keywords                     float64\n",
       " data_channel_is_lifestyle        float64\n",
       " data_channel_is_entertainment    float64\n",
       " data_channel_is_bus              float64\n",
       " data_channel_is_socmed           float64\n",
       " data_channel_is_tech             float64\n",
       " data_channel_is_world            float64\n",
       " kw_min_min                       float64\n",
       " kw_max_min                       float64\n",
       " kw_avg_min                       float64\n",
       " kw_min_max                       float64\n",
       " kw_max_max                       float64\n",
       " kw_avg_max                       float64\n",
       " kw_min_avg                       float64\n",
       " kw_max_avg                       float64\n",
       " kw_avg_avg                       float64\n",
       " self_reference_min_shares        float64\n",
       " self_reference_max_shares        float64\n",
       " self_reference_avg_sharess       float64\n",
       " weekday_is_monday                float64\n",
       " weekday_is_tuesday               float64\n",
       " weekday_is_wednesday             float64\n",
       " weekday_is_thursday              float64\n",
       " weekday_is_friday                float64\n",
       " weekday_is_saturday              float64\n",
       " weekday_is_sunday                float64\n",
       " is_weekend                       float64\n",
       " LDA_00                           float64\n",
       " LDA_01                           float64\n",
       " LDA_02                           float64\n",
       " LDA_03                           float64\n",
       " LDA_04                           float64\n",
       " global_subjectivity              float64\n",
       " global_sentiment_polarity        float64\n",
       " global_rate_positive_words       float64\n",
       " global_rate_negative_words       float64\n",
       " rate_positive_words              float64\n",
       " rate_negative_words              float64\n",
       " avg_positive_polarity            float64\n",
       " min_positive_polarity            float64\n",
       " max_positive_polarity            float64\n",
       " avg_negative_polarity            float64\n",
       " min_negative_polarity            float64\n",
       " max_negative_polarity            float64\n",
       " title_subjectivity               float64\n",
       " title_sentiment_polarity         float64\n",
       " abs_title_subjectivity           float64\n",
       " abs_title_sentiment_polarity     float64\n",
       " shares                             int64\n",
       "dtype: object"
      ]
     },
     "execution_count": 191,
     "metadata": {},
     "output_type": "execute_result"
    }
   ],
   "source": [
    "data.dtypes"
   ]
  },
  {
   "cell_type": "code",
   "execution_count": 192,
   "metadata": {},
   "outputs": [
    {
     "data": {
      "text/plain": [
       "Index([' timedelta', ' n_tokens_title', ' n_tokens_content',\n",
       "       ' n_unique_tokens', ' n_non_stop_words', ' n_non_stop_unique_tokens',\n",
       "       ' num_hrefs', ' num_self_hrefs', ' num_imgs', ' num_videos',\n",
       "       ' average_token_length', ' num_keywords', ' data_channel_is_lifestyle',\n",
       "       ' data_channel_is_entertainment', ' data_channel_is_bus',\n",
       "       ' data_channel_is_socmed', ' data_channel_is_tech',\n",
       "       ' data_channel_is_world', ' kw_min_min', ' kw_max_min', ' kw_avg_min',\n",
       "       ' kw_min_max', ' kw_max_max', ' kw_avg_max', ' kw_min_avg',\n",
       "       ' kw_max_avg', ' kw_avg_avg', ' self_reference_min_shares',\n",
       "       ' self_reference_max_shares', ' self_reference_avg_sharess',\n",
       "       ' weekday_is_monday', ' weekday_is_tuesday', ' weekday_is_wednesday',\n",
       "       ' weekday_is_thursday', ' weekday_is_friday', ' weekday_is_saturday',\n",
       "       ' weekday_is_sunday', ' is_weekend', ' LDA_00', ' LDA_01', ' LDA_02',\n",
       "       ' LDA_03', ' LDA_04', ' global_subjectivity',\n",
       "       ' global_sentiment_polarity', ' global_rate_positive_words',\n",
       "       ' global_rate_negative_words', ' rate_positive_words',\n",
       "       ' rate_negative_words', ' avg_positive_polarity',\n",
       "       ' min_positive_polarity', ' max_positive_polarity',\n",
       "       ' avg_negative_polarity', ' min_negative_polarity',\n",
       "       ' max_negative_polarity', ' title_subjectivity',\n",
       "       ' title_sentiment_polarity', ' abs_title_subjectivity',\n",
       "       ' abs_title_sentiment_polarity', ' shares'],\n",
       "      dtype='object')"
      ]
     },
     "execution_count": 192,
     "metadata": {},
     "output_type": "execute_result"
    }
   ],
   "source": [
    "data.columns \n",
    "#found that extra space is available in all column names "
   ]
  },
  {
   "cell_type": "code",
   "execution_count": 193,
   "metadata": {
    "collapsed": true
   },
   "outputs": [],
   "source": [
    "data = data.rename(columns=lambda x: x.strip())"
   ]
  },
  {
   "cell_type": "code",
   "execution_count": 194,
   "metadata": {
    "collapsed": true
   },
   "outputs": [],
   "source": [
    "import numpy as np\n",
    "data['log_shares'] = np.log10(data.shares)"
   ]
  },
  {
   "cell_type": "code",
   "execution_count": 195,
   "metadata": {},
   "outputs": [
    {
     "data": {
      "text/html": [
       "<div>\n",
       "<style>\n",
       "    .dataframe thead tr:only-child th {\n",
       "        text-align: right;\n",
       "    }\n",
       "\n",
       "    .dataframe thead th {\n",
       "        text-align: left;\n",
       "    }\n",
       "\n",
       "    .dataframe tbody tr th {\n",
       "        vertical-align: top;\n",
       "    }\n",
       "</style>\n",
       "<table border=\"1\" class=\"dataframe\">\n",
       "  <thead>\n",
       "    <tr style=\"text-align: right;\">\n",
       "      <th></th>\n",
       "      <th>timedelta</th>\n",
       "      <th>n_tokens_title</th>\n",
       "      <th>n_tokens_content</th>\n",
       "      <th>n_unique_tokens</th>\n",
       "      <th>n_non_stop_words</th>\n",
       "      <th>n_non_stop_unique_tokens</th>\n",
       "      <th>num_hrefs</th>\n",
       "      <th>num_self_hrefs</th>\n",
       "      <th>num_imgs</th>\n",
       "      <th>num_videos</th>\n",
       "      <th>...</th>\n",
       "      <th>max_positive_polarity</th>\n",
       "      <th>avg_negative_polarity</th>\n",
       "      <th>min_negative_polarity</th>\n",
       "      <th>max_negative_polarity</th>\n",
       "      <th>title_subjectivity</th>\n",
       "      <th>title_sentiment_polarity</th>\n",
       "      <th>abs_title_subjectivity</th>\n",
       "      <th>abs_title_sentiment_polarity</th>\n",
       "      <th>shares</th>\n",
       "      <th>log_shares</th>\n",
       "    </tr>\n",
       "  </thead>\n",
       "  <tbody>\n",
       "    <tr>\n",
       "      <th>0</th>\n",
       "      <td>731.0</td>\n",
       "      <td>12.0</td>\n",
       "      <td>219.0</td>\n",
       "      <td>0.663594</td>\n",
       "      <td>1.0</td>\n",
       "      <td>0.815385</td>\n",
       "      <td>4.0</td>\n",
       "      <td>2.0</td>\n",
       "      <td>1.0</td>\n",
       "      <td>0.0</td>\n",
       "      <td>...</td>\n",
       "      <td>0.7</td>\n",
       "      <td>-0.35000</td>\n",
       "      <td>-0.600</td>\n",
       "      <td>-0.2</td>\n",
       "      <td>0.5</td>\n",
       "      <td>-0.1875</td>\n",
       "      <td>0.0</td>\n",
       "      <td>0.1875</td>\n",
       "      <td>593</td>\n",
       "      <td>2.773055</td>\n",
       "    </tr>\n",
       "    <tr>\n",
       "      <th>1</th>\n",
       "      <td>731.0</td>\n",
       "      <td>9.0</td>\n",
       "      <td>255.0</td>\n",
       "      <td>0.604743</td>\n",
       "      <td>1.0</td>\n",
       "      <td>0.791946</td>\n",
       "      <td>3.0</td>\n",
       "      <td>1.0</td>\n",
       "      <td>1.0</td>\n",
       "      <td>0.0</td>\n",
       "      <td>...</td>\n",
       "      <td>0.7</td>\n",
       "      <td>-0.11875</td>\n",
       "      <td>-0.125</td>\n",
       "      <td>-0.1</td>\n",
       "      <td>0.0</td>\n",
       "      <td>0.0000</td>\n",
       "      <td>0.5</td>\n",
       "      <td>0.0000</td>\n",
       "      <td>711</td>\n",
       "      <td>2.851870</td>\n",
       "    </tr>\n",
       "  </tbody>\n",
       "</table>\n",
       "<p>2 rows × 61 columns</p>\n",
       "</div>"
      ],
      "text/plain": [
       "   timedelta  n_tokens_title  n_tokens_content  n_unique_tokens  \\\n",
       "0      731.0            12.0             219.0         0.663594   \n",
       "1      731.0             9.0             255.0         0.604743   \n",
       "\n",
       "   n_non_stop_words  n_non_stop_unique_tokens  num_hrefs  num_self_hrefs  \\\n",
       "0               1.0                  0.815385        4.0             2.0   \n",
       "1               1.0                  0.791946        3.0             1.0   \n",
       "\n",
       "   num_imgs  num_videos     ...      max_positive_polarity  \\\n",
       "0       1.0         0.0     ...                        0.7   \n",
       "1       1.0         0.0     ...                        0.7   \n",
       "\n",
       "   avg_negative_polarity  min_negative_polarity  max_negative_polarity  \\\n",
       "0               -0.35000                 -0.600                   -0.2   \n",
       "1               -0.11875                 -0.125                   -0.1   \n",
       "\n",
       "   title_subjectivity  title_sentiment_polarity  abs_title_subjectivity  \\\n",
       "0                 0.5                   -0.1875                     0.0   \n",
       "1                 0.0                    0.0000                     0.5   \n",
       "\n",
       "   abs_title_sentiment_polarity  shares  log_shares  \n",
       "0                        0.1875     593    2.773055  \n",
       "1                        0.0000     711    2.851870  \n",
       "\n",
       "[2 rows x 61 columns]"
      ]
     },
     "execution_count": 195,
     "metadata": {},
     "output_type": "execute_result"
    }
   ],
   "source": [
    "data.head(2)"
   ]
  },
  {
   "cell_type": "code",
   "execution_count": 196,
   "metadata": {
    "collapsed": true
   },
   "outputs": [],
   "source": [
    "#data[data['weekday_is_monday'] == 1.0 | data['weekday_is_tuesday']==1.0]\n",
    "\n",
    "data['weekday_is_monday'] = data['weekday_is_monday'].astype(int)\n",
    "data['weekday_is_tuesday'] = data['weekday_is_tuesday'].astype(int)\n",
    "data['weekday_is_wednesday'] = data['weekday_is_wednesday'].astype(int)\n",
    "data['weekday_is_thursday'] = data['weekday_is_thursday'].astype(int)\n",
    "data['weekday_is_friday'] = data['weekday_is_friday'].astype(int)\n",
    "data['weekday_is_saturday'] = data['weekday_is_saturday'].astype(int)\n",
    "data['weekday_is_sunday'] = data['weekday_is_sunday'].astype(int)\n",
    "data['is_weekend'] = data['is_weekend'].astype(int)\n",
    "#data.dtypes"
   ]
  },
  {
   "cell_type": "code",
   "execution_count": 197,
   "metadata": {},
   "outputs": [
    {
     "name": "stdout",
     "output_type": "stream",
     "text": [
      "\n"
     ]
    }
   ],
   "source": [
    "#data[(data['weekday_is_monday'] == 1) or (data['weekday_is_tuesday'] == 1)]\n",
    "#data[data['weekday_is_monday'or 'weekday_is_tuesday' or 'weekday_is_wednesday' or 'weekday_is_thursday' or 'weekday_is_friday'] ==1].count()\n",
    "\n",
    "data[data['is_weekend'] ==1].count()\n",
    "data[data['is_weekend'] ==0].count()\n",
    "\n",
    "#data.head(2)\n",
    "print('')"
   ]
  },
  {
   "cell_type": "code",
   "execution_count": 198,
   "metadata": {
    "collapsed": true
   },
   "outputs": [],
   "source": [
    "data_pop = data.copy()\n",
    "data_class = data.copy()\n",
    "#data_pop[data_pop.columns[0:4]]"
   ]
  },
  {
   "cell_type": "code",
   "execution_count": 199,
   "metadata": {},
   "outputs": [
    {
     "data": {
      "text/plain": [
       "Index(['timedelta', 'n_tokens_title', 'n_tokens_content', 'n_unique_tokens',\n",
       "       'n_non_stop_words', 'n_non_stop_unique_tokens', 'num_hrefs',\n",
       "       'num_self_hrefs', 'num_imgs', 'num_videos', 'average_token_length',\n",
       "       'num_keywords', 'data_channel_is_lifestyle',\n",
       "       'data_channel_is_entertainment', 'data_channel_is_bus',\n",
       "       'data_channel_is_socmed', 'data_channel_is_tech',\n",
       "       'data_channel_is_world', 'kw_min_min', 'kw_max_min', 'kw_avg_min',\n",
       "       'kw_min_max', 'kw_max_max', 'kw_avg_max', 'kw_min_avg', 'kw_max_avg',\n",
       "       'kw_avg_avg', 'self_reference_min_shares', 'self_reference_max_shares',\n",
       "       'self_reference_avg_sharess', 'weekday_is_monday', 'weekday_is_tuesday',\n",
       "       'weekday_is_wednesday', 'weekday_is_thursday', 'weekday_is_friday',\n",
       "       'weekday_is_saturday', 'weekday_is_sunday', 'is_weekend', 'LDA_00',\n",
       "       'LDA_01', 'LDA_02', 'LDA_03', 'LDA_04', 'global_subjectivity',\n",
       "       'global_sentiment_polarity', 'global_rate_positive_words',\n",
       "       'global_rate_negative_words', 'rate_positive_words',\n",
       "       'rate_negative_words', 'avg_positive_polarity', 'min_positive_polarity',\n",
       "       'max_positive_polarity', 'avg_negative_polarity',\n",
       "       'min_negative_polarity', 'max_negative_polarity', 'title_subjectivity',\n",
       "       'title_sentiment_polarity', 'abs_title_subjectivity',\n",
       "       'abs_title_sentiment_polarity', 'shares', 'log_shares'],\n",
       "      dtype='object')"
      ]
     },
     "execution_count": 199,
     "metadata": {},
     "output_type": "execute_result"
    }
   ],
   "source": [
    "data_pop.columns\n"
   ]
  },
  {
   "cell_type": "code",
   "execution_count": 200,
   "metadata": {
    "collapsed": true
   },
   "outputs": [],
   "source": [
    "data_pop.drop(data_pop.columns[[0,1,2,3,4,5,6,7,10,11,18,19,20,21,22,23,24,25,26,27,28,29,30,31,32,33,34,35,36,38,39,40,41,42,47,48,50,51,53,54,55,56,59]],axis=1,inplace = True)"
   ]
  },
  {
   "cell_type": "code",
   "execution_count": 201,
   "metadata": {},
   "outputs": [
    {
     "data": {
      "text/plain": [
       "Index(['num_imgs', 'num_videos', 'data_channel_is_lifestyle',\n",
       "       'data_channel_is_entertainment', 'data_channel_is_bus',\n",
       "       'data_channel_is_socmed', 'data_channel_is_tech',\n",
       "       'data_channel_is_world', 'is_weekend', 'global_subjectivity',\n",
       "       'global_sentiment_polarity', 'global_rate_positive_words',\n",
       "       'global_rate_negative_words', 'avg_positive_polarity',\n",
       "       'avg_negative_polarity', 'abs_title_subjectivity',\n",
       "       'abs_title_sentiment_polarity', 'log_shares'],\n",
       "      dtype='object')"
      ]
     },
     "execution_count": 201,
     "metadata": {},
     "output_type": "execute_result"
    }
   ],
   "source": [
    "data_pop.columns"
   ]
  },
  {
   "cell_type": "code",
   "execution_count": 202,
   "metadata": {
    "collapsed": true
   },
   "outputs": [],
   "source": [
    "data_pop['num_imgs'] = data['num_imgs'].astype(int)\n",
    "data_pop['num_videos'] = data['num_videos'].astype(int)\n",
    "data_pop['data_channel_is_lifestyle'] = data['data_channel_is_lifestyle'].astype(int)\n",
    "data_pop['data_channel_is_entertainment'] = data['data_channel_is_entertainment'].astype(int)\n",
    "data_pop['data_channel_is_bus'] = data['data_channel_is_bus'].astype(int)\n",
    "data_pop['data_channel_is_socmed'] = data['data_channel_is_socmed'].astype(int)\n",
    "data_pop['data_channel_is_tech'] = data['data_channel_is_tech'].astype(int)\n",
    "data_pop['data_channel_is_world'] = data['data_channel_is_world'].astype(int)\n",
    "data_pop['is_weekend'] = data['is_weekend'].astype(int)\n"
   ]
  },
  {
   "cell_type": "code",
   "execution_count": 203,
   "metadata": {},
   "outputs": [
    {
     "data": {
      "text/plain": [
       "num_imgs                           int32\n",
       "num_videos                         int32\n",
       "data_channel_is_lifestyle          int32\n",
       "data_channel_is_entertainment      int32\n",
       "data_channel_is_bus                int32\n",
       "data_channel_is_socmed             int32\n",
       "data_channel_is_tech               int32\n",
       "data_channel_is_world              int32\n",
       "is_weekend                         int32\n",
       "global_subjectivity              float64\n",
       "global_sentiment_polarity        float64\n",
       "global_rate_positive_words       float64\n",
       "global_rate_negative_words       float64\n",
       "avg_positive_polarity            float64\n",
       "avg_negative_polarity            float64\n",
       "abs_title_subjectivity           float64\n",
       "abs_title_sentiment_polarity     float64\n",
       "log_shares                       float64\n",
       "dtype: object"
      ]
     },
     "execution_count": 203,
     "metadata": {},
     "output_type": "execute_result"
    }
   ],
   "source": [
    "data_pop.dtypes"
   ]
  },
  {
   "cell_type": "code",
   "execution_count": 204,
   "metadata": {},
   "outputs": [
    {
     "data": {
      "text/html": [
       "<div>\n",
       "<style>\n",
       "    .dataframe thead tr:only-child th {\n",
       "        text-align: right;\n",
       "    }\n",
       "\n",
       "    .dataframe thead th {\n",
       "        text-align: left;\n",
       "    }\n",
       "\n",
       "    .dataframe tbody tr th {\n",
       "        vertical-align: top;\n",
       "    }\n",
       "</style>\n",
       "<table border=\"1\" class=\"dataframe\">\n",
       "  <thead>\n",
       "    <tr style=\"text-align: right;\">\n",
       "      <th></th>\n",
       "      <th>num_imgs</th>\n",
       "      <th>num_videos</th>\n",
       "      <th>data_channel_is_lifestyle</th>\n",
       "      <th>data_channel_is_entertainment</th>\n",
       "      <th>data_channel_is_bus</th>\n",
       "      <th>data_channel_is_socmed</th>\n",
       "      <th>data_channel_is_tech</th>\n",
       "      <th>data_channel_is_world</th>\n",
       "      <th>is_weekend</th>\n",
       "      <th>global_subjectivity</th>\n",
       "      <th>global_sentiment_polarity</th>\n",
       "      <th>global_rate_positive_words</th>\n",
       "      <th>global_rate_negative_words</th>\n",
       "      <th>avg_positive_polarity</th>\n",
       "      <th>avg_negative_polarity</th>\n",
       "      <th>abs_title_subjectivity</th>\n",
       "      <th>abs_title_sentiment_polarity</th>\n",
       "      <th>log_shares</th>\n",
       "    </tr>\n",
       "  </thead>\n",
       "  <tbody>\n",
       "    <tr>\n",
       "      <th>count</th>\n",
       "      <td>39644.000000</td>\n",
       "      <td>39644.000000</td>\n",
       "      <td>39644.000000</td>\n",
       "      <td>39644.000000</td>\n",
       "      <td>39644.000000</td>\n",
       "      <td>39644.000000</td>\n",
       "      <td>39644.000000</td>\n",
       "      <td>39644.000000</td>\n",
       "      <td>39644.000000</td>\n",
       "      <td>39644.000000</td>\n",
       "      <td>39644.000000</td>\n",
       "      <td>39644.000000</td>\n",
       "      <td>39644.000000</td>\n",
       "      <td>39644.000000</td>\n",
       "      <td>39644.000000</td>\n",
       "      <td>39644.000000</td>\n",
       "      <td>39644.000000</td>\n",
       "      <td>39644.000000</td>\n",
       "    </tr>\n",
       "    <tr>\n",
       "      <th>mean</th>\n",
       "      <td>4.544143</td>\n",
       "      <td>1.249874</td>\n",
       "      <td>0.052946</td>\n",
       "      <td>0.178009</td>\n",
       "      <td>0.157855</td>\n",
       "      <td>0.058597</td>\n",
       "      <td>0.185299</td>\n",
       "      <td>0.212567</td>\n",
       "      <td>0.130915</td>\n",
       "      <td>0.443370</td>\n",
       "      <td>0.119309</td>\n",
       "      <td>0.039625</td>\n",
       "      <td>0.016612</td>\n",
       "      <td>0.353825</td>\n",
       "      <td>-0.259524</td>\n",
       "      <td>0.341843</td>\n",
       "      <td>0.156064</td>\n",
       "      <td>3.246288</td>\n",
       "    </tr>\n",
       "    <tr>\n",
       "      <th>std</th>\n",
       "      <td>8.309434</td>\n",
       "      <td>4.107855</td>\n",
       "      <td>0.223929</td>\n",
       "      <td>0.382525</td>\n",
       "      <td>0.364610</td>\n",
       "      <td>0.234871</td>\n",
       "      <td>0.388545</td>\n",
       "      <td>0.409129</td>\n",
       "      <td>0.337312</td>\n",
       "      <td>0.116685</td>\n",
       "      <td>0.096931</td>\n",
       "      <td>0.017429</td>\n",
       "      <td>0.010828</td>\n",
       "      <td>0.104542</td>\n",
       "      <td>0.127726</td>\n",
       "      <td>0.188791</td>\n",
       "      <td>0.226294</td>\n",
       "      <td>0.404105</td>\n",
       "    </tr>\n",
       "    <tr>\n",
       "      <th>min</th>\n",
       "      <td>0.000000</td>\n",
       "      <td>0.000000</td>\n",
       "      <td>0.000000</td>\n",
       "      <td>0.000000</td>\n",
       "      <td>0.000000</td>\n",
       "      <td>0.000000</td>\n",
       "      <td>0.000000</td>\n",
       "      <td>0.000000</td>\n",
       "      <td>0.000000</td>\n",
       "      <td>0.000000</td>\n",
       "      <td>-0.393750</td>\n",
       "      <td>0.000000</td>\n",
       "      <td>0.000000</td>\n",
       "      <td>0.000000</td>\n",
       "      <td>-1.000000</td>\n",
       "      <td>0.000000</td>\n",
       "      <td>0.000000</td>\n",
       "      <td>0.000000</td>\n",
       "    </tr>\n",
       "    <tr>\n",
       "      <th>25%</th>\n",
       "      <td>1.000000</td>\n",
       "      <td>0.000000</td>\n",
       "      <td>0.000000</td>\n",
       "      <td>0.000000</td>\n",
       "      <td>0.000000</td>\n",
       "      <td>0.000000</td>\n",
       "      <td>0.000000</td>\n",
       "      <td>0.000000</td>\n",
       "      <td>0.000000</td>\n",
       "      <td>0.396167</td>\n",
       "      <td>0.057757</td>\n",
       "      <td>0.028384</td>\n",
       "      <td>0.009615</td>\n",
       "      <td>0.306244</td>\n",
       "      <td>-0.328383</td>\n",
       "      <td>0.166667</td>\n",
       "      <td>0.000000</td>\n",
       "      <td>2.975891</td>\n",
       "    </tr>\n",
       "    <tr>\n",
       "      <th>50%</th>\n",
       "      <td>1.000000</td>\n",
       "      <td>0.000000</td>\n",
       "      <td>0.000000</td>\n",
       "      <td>0.000000</td>\n",
       "      <td>0.000000</td>\n",
       "      <td>0.000000</td>\n",
       "      <td>0.000000</td>\n",
       "      <td>0.000000</td>\n",
       "      <td>0.000000</td>\n",
       "      <td>0.453457</td>\n",
       "      <td>0.119117</td>\n",
       "      <td>0.039023</td>\n",
       "      <td>0.015337</td>\n",
       "      <td>0.358755</td>\n",
       "      <td>-0.253333</td>\n",
       "      <td>0.500000</td>\n",
       "      <td>0.000000</td>\n",
       "      <td>3.146128</td>\n",
       "    </tr>\n",
       "    <tr>\n",
       "      <th>75%</th>\n",
       "      <td>4.000000</td>\n",
       "      <td>1.000000</td>\n",
       "      <td>0.000000</td>\n",
       "      <td>0.000000</td>\n",
       "      <td>0.000000</td>\n",
       "      <td>0.000000</td>\n",
       "      <td>0.000000</td>\n",
       "      <td>0.000000</td>\n",
       "      <td>0.000000</td>\n",
       "      <td>0.508333</td>\n",
       "      <td>0.177832</td>\n",
       "      <td>0.050279</td>\n",
       "      <td>0.021739</td>\n",
       "      <td>0.411428</td>\n",
       "      <td>-0.186905</td>\n",
       "      <td>0.500000</td>\n",
       "      <td>0.250000</td>\n",
       "      <td>3.447158</td>\n",
       "    </tr>\n",
       "    <tr>\n",
       "      <th>max</th>\n",
       "      <td>128.000000</td>\n",
       "      <td>91.000000</td>\n",
       "      <td>1.000000</td>\n",
       "      <td>1.000000</td>\n",
       "      <td>1.000000</td>\n",
       "      <td>1.000000</td>\n",
       "      <td>1.000000</td>\n",
       "      <td>1.000000</td>\n",
       "      <td>1.000000</td>\n",
       "      <td>1.000000</td>\n",
       "      <td>0.727841</td>\n",
       "      <td>0.155488</td>\n",
       "      <td>0.184932</td>\n",
       "      <td>1.000000</td>\n",
       "      <td>0.000000</td>\n",
       "      <td>0.500000</td>\n",
       "      <td>1.000000</td>\n",
       "      <td>5.925982</td>\n",
       "    </tr>\n",
       "  </tbody>\n",
       "</table>\n",
       "</div>"
      ],
      "text/plain": [
       "           num_imgs    num_videos  data_channel_is_lifestyle  \\\n",
       "count  39644.000000  39644.000000               39644.000000   \n",
       "mean       4.544143      1.249874                   0.052946   \n",
       "std        8.309434      4.107855                   0.223929   \n",
       "min        0.000000      0.000000                   0.000000   \n",
       "25%        1.000000      0.000000                   0.000000   \n",
       "50%        1.000000      0.000000                   0.000000   \n",
       "75%        4.000000      1.000000                   0.000000   \n",
       "max      128.000000     91.000000                   1.000000   \n",
       "\n",
       "       data_channel_is_entertainment  data_channel_is_bus  \\\n",
       "count                   39644.000000         39644.000000   \n",
       "mean                        0.178009             0.157855   \n",
       "std                         0.382525             0.364610   \n",
       "min                         0.000000             0.000000   \n",
       "25%                         0.000000             0.000000   \n",
       "50%                         0.000000             0.000000   \n",
       "75%                         0.000000             0.000000   \n",
       "max                         1.000000             1.000000   \n",
       "\n",
       "       data_channel_is_socmed  data_channel_is_tech  data_channel_is_world  \\\n",
       "count            39644.000000          39644.000000           39644.000000   \n",
       "mean                 0.058597              0.185299               0.212567   \n",
       "std                  0.234871              0.388545               0.409129   \n",
       "min                  0.000000              0.000000               0.000000   \n",
       "25%                  0.000000              0.000000               0.000000   \n",
       "50%                  0.000000              0.000000               0.000000   \n",
       "75%                  0.000000              0.000000               0.000000   \n",
       "max                  1.000000              1.000000               1.000000   \n",
       "\n",
       "         is_weekend  global_subjectivity  global_sentiment_polarity  \\\n",
       "count  39644.000000         39644.000000               39644.000000   \n",
       "mean       0.130915             0.443370                   0.119309   \n",
       "std        0.337312             0.116685                   0.096931   \n",
       "min        0.000000             0.000000                  -0.393750   \n",
       "25%        0.000000             0.396167                   0.057757   \n",
       "50%        0.000000             0.453457                   0.119117   \n",
       "75%        0.000000             0.508333                   0.177832   \n",
       "max        1.000000             1.000000                   0.727841   \n",
       "\n",
       "       global_rate_positive_words  global_rate_negative_words  \\\n",
       "count                39644.000000                39644.000000   \n",
       "mean                     0.039625                    0.016612   \n",
       "std                      0.017429                    0.010828   \n",
       "min                      0.000000                    0.000000   \n",
       "25%                      0.028384                    0.009615   \n",
       "50%                      0.039023                    0.015337   \n",
       "75%                      0.050279                    0.021739   \n",
       "max                      0.155488                    0.184932   \n",
       "\n",
       "       avg_positive_polarity  avg_negative_polarity  abs_title_subjectivity  \\\n",
       "count           39644.000000           39644.000000            39644.000000   \n",
       "mean                0.353825              -0.259524                0.341843   \n",
       "std                 0.104542               0.127726                0.188791   \n",
       "min                 0.000000              -1.000000                0.000000   \n",
       "25%                 0.306244              -0.328383                0.166667   \n",
       "50%                 0.358755              -0.253333                0.500000   \n",
       "75%                 0.411428              -0.186905                0.500000   \n",
       "max                 1.000000               0.000000                0.500000   \n",
       "\n",
       "       abs_title_sentiment_polarity    log_shares  \n",
       "count                  39644.000000  39644.000000  \n",
       "mean                       0.156064      3.246288  \n",
       "std                        0.226294      0.404105  \n",
       "min                        0.000000      0.000000  \n",
       "25%                        0.000000      2.975891  \n",
       "50%                        0.000000      3.146128  \n",
       "75%                        0.250000      3.447158  \n",
       "max                        1.000000      5.925982  "
      ]
     },
     "execution_count": 204,
     "metadata": {},
     "output_type": "execute_result"
    }
   ],
   "source": [
    " #data_pop.head()\n",
    "data_pop.describe()"
   ]
  },
  {
   "cell_type": "code",
   "execution_count": 205,
   "metadata": {},
   "outputs": [
    {
     "data": {
      "text/html": [
       "<div>\n",
       "<style>\n",
       "    .dataframe thead tr:only-child th {\n",
       "        text-align: right;\n",
       "    }\n",
       "\n",
       "    .dataframe thead th {\n",
       "        text-align: left;\n",
       "    }\n",
       "\n",
       "    .dataframe tbody tr th {\n",
       "        vertical-align: top;\n",
       "    }\n",
       "</style>\n",
       "<table border=\"1\" class=\"dataframe\">\n",
       "  <thead>\n",
       "    <tr style=\"text-align: right;\">\n",
       "      <th></th>\n",
       "      <th>num_imgs</th>\n",
       "      <th>num_videos</th>\n",
       "      <th>data_channel_is_lifestyle</th>\n",
       "      <th>data_channel_is_entertainment</th>\n",
       "      <th>data_channel_is_bus</th>\n",
       "      <th>data_channel_is_socmed</th>\n",
       "      <th>data_channel_is_tech</th>\n",
       "      <th>data_channel_is_world</th>\n",
       "      <th>is_weekend</th>\n",
       "      <th>global_subjectivity</th>\n",
       "      <th>global_sentiment_polarity</th>\n",
       "      <th>global_rate_positive_words</th>\n",
       "      <th>global_rate_negative_words</th>\n",
       "      <th>avg_positive_polarity</th>\n",
       "      <th>avg_negative_polarity</th>\n",
       "      <th>abs_title_subjectivity</th>\n",
       "      <th>abs_title_sentiment_polarity</th>\n",
       "      <th>log_shares</th>\n",
       "    </tr>\n",
       "  </thead>\n",
       "  <tbody>\n",
       "    <tr>\n",
       "      <th>0</th>\n",
       "      <td>1</td>\n",
       "      <td>0</td>\n",
       "      <td>0</td>\n",
       "      <td>1</td>\n",
       "      <td>0</td>\n",
       "      <td>0</td>\n",
       "      <td>0</td>\n",
       "      <td>0</td>\n",
       "      <td>0</td>\n",
       "      <td>0.521617</td>\n",
       "      <td>0.092562</td>\n",
       "      <td>0.045662</td>\n",
       "      <td>0.013699</td>\n",
       "      <td>0.378636</td>\n",
       "      <td>-0.35000</td>\n",
       "      <td>0.0</td>\n",
       "      <td>0.1875</td>\n",
       "      <td>2.773055</td>\n",
       "    </tr>\n",
       "    <tr>\n",
       "      <th>1</th>\n",
       "      <td>1</td>\n",
       "      <td>0</td>\n",
       "      <td>0</td>\n",
       "      <td>0</td>\n",
       "      <td>1</td>\n",
       "      <td>0</td>\n",
       "      <td>0</td>\n",
       "      <td>0</td>\n",
       "      <td>0</td>\n",
       "      <td>0.341246</td>\n",
       "      <td>0.148948</td>\n",
       "      <td>0.043137</td>\n",
       "      <td>0.015686</td>\n",
       "      <td>0.286915</td>\n",
       "      <td>-0.11875</td>\n",
       "      <td>0.5</td>\n",
       "      <td>0.0000</td>\n",
       "      <td>2.851870</td>\n",
       "    </tr>\n",
       "  </tbody>\n",
       "</table>\n",
       "</div>"
      ],
      "text/plain": [
       "   num_imgs  num_videos  data_channel_is_lifestyle  \\\n",
       "0         1           0                          0   \n",
       "1         1           0                          0   \n",
       "\n",
       "   data_channel_is_entertainment  data_channel_is_bus  data_channel_is_socmed  \\\n",
       "0                              1                    0                       0   \n",
       "1                              0                    1                       0   \n",
       "\n",
       "   data_channel_is_tech  data_channel_is_world  is_weekend  \\\n",
       "0                     0                      0           0   \n",
       "1                     0                      0           0   \n",
       "\n",
       "   global_subjectivity  global_sentiment_polarity  global_rate_positive_words  \\\n",
       "0             0.521617                   0.092562                    0.045662   \n",
       "1             0.341246                   0.148948                    0.043137   \n",
       "\n",
       "   global_rate_negative_words  avg_positive_polarity  avg_negative_polarity  \\\n",
       "0                    0.013699               0.378636               -0.35000   \n",
       "1                    0.015686               0.286915               -0.11875   \n",
       "\n",
       "   abs_title_subjectivity  abs_title_sentiment_polarity  log_shares  \n",
       "0                     0.0                        0.1875    2.773055  \n",
       "1                     0.5                        0.0000    2.851870  "
      ]
     },
     "execution_count": 205,
     "metadata": {},
     "output_type": "execute_result"
    }
   ],
   "source": [
    "data_pop.head(2)"
   ]
  },
  {
   "cell_type": "code",
   "execution_count": 206,
   "metadata": {
    "collapsed": true
   },
   "outputs": [],
   "source": [
    "data_weekend = data_pop[data_pop['is_weekend']==1].copy()\n",
    "data_weekday = data_pop[data_pop['is_weekend']==0].copy()\n",
    "weekend_news_count = data_weekend.count()\n",
    "weekday_news_count = data_weekday.count()"
   ]
  },
  {
   "cell_type": "code",
   "execution_count": 207,
   "metadata": {
    "collapsed": true
   },
   "outputs": [],
   "source": [
    "weekday_sum = (data_weekday.sum(axis=0)/weekday_news_count)\n",
    "weekend_sum = (data_weekend.sum(axis=0)/weekend_news_count)\n",
    "#type(xx)\n",
    "#data_weekday.columns\n",
    "department_values = ['num_imgs', 'num_videos', 'data_channel_is_lifestyle',\n",
    "       'data_channel_is_entertainment', 'data_channel_is_bus',\n",
    "       'data_channel_is_socmed', 'data_channel_is_tech',\n",
    "       'data_channel_is_world', 'is_weekend', 'global_subjectivity',\n",
    "       'global_sentiment_polarity', 'global_rate_positive_words',\n",
    "       'global_rate_negative_words', 'avg_positive_polarity',\n",
    "       'avg_negative_polarity', 'abs_title_subjectivity',\n",
    "       'abs_title_sentiment_polarity', 'log_shares']\n"
   ]
  },
  {
   "cell_type": "code",
   "execution_count": 208,
   "metadata": {
    "collapsed": true
   },
   "outputs": [],
   "source": [
    "column_names = ('department','weekday','weekend')\n",
    "summary_df = pd.DataFrame(columns=column_names)"
   ]
  },
  {
   "cell_type": "code",
   "execution_count": 209,
   "metadata": {
    "collapsed": true
   },
   "outputs": [],
   "source": [
    "weekday_list = weekday_sum.tolist()\n",
    "weekend_list = weekend_sum.tolist()\n",
    "summary_df['weekday'] = weekday_list\n",
    "summary_df['weekend'] = weekend_list\n",
    "summary_df['department'] = department_values\n"
   ]
  },
  {
   "cell_type": "code",
   "execution_count": 210,
   "metadata": {
    "collapsed": true
   },
   "outputs": [],
   "source": [
    "#updated the decimal values into percentage as part of normalization for graph view \n",
    "\n",
    "summary_df.loc[summary_df['department']== 'data_channel_is_lifestyle',['weekday','weekend']] =  summary_df.loc[summary_df['department']== 'data_channel_is_lifestyle',['weekday','weekend']]*100\n",
    "summary_df.loc[summary_df['department']== 'data_channel_is_entertainment',['weekday','weekend']] =  summary_df.loc[summary_df['department']== 'data_channel_is_entertainment',['weekday','weekend']]*100\n",
    "summary_df.loc[summary_df['department']== 'data_channel_is_bus',['weekday','weekend']] =  summary_df.loc[summary_df['department']== 'data_channel_is_bus',['weekday','weekend']]*100\n",
    "summary_df.loc[summary_df['department']== 'data_channel_is_socmed',['weekday','weekend']] =  summary_df.loc[summary_df['department']== 'data_channel_is_socmed',['weekday','weekend']]*100\n",
    "summary_df.loc[summary_df['department']== 'data_channel_is_tech',['weekday','weekend']] =  summary_df.loc[summary_df['department']== 'data_channel_is_tech',['weekday','weekend']]*100\n",
    "summary_df.loc[summary_df['department']== 'data_channel_is_world',['weekday','weekend']] =  summary_df.loc[summary_df['department']== 'data_channel_is_world',['weekday','weekend']]*100\n",
    "summary_df.loc[summary_df['department']== 'global_subjectivity',['weekday','weekend']] =  summary_df.loc[summary_df['department']== 'global_subjectivity',['weekday','weekend']]*100\n",
    "summary_df.loc[summary_df['department']== 'global_sentiment_polarity',['weekday','weekend']] =  summary_df.loc[summary_df['department']== 'global_sentiment_polarity',['weekday','weekend']]*100\n",
    "summary_df.loc[summary_df['department']== 'global_rate_positive_words',['weekday','weekend']] =  summary_df.loc[summary_df['department']== 'global_rate_positive_words',['weekday','weekend']]*100\n",
    "summary_df.loc[summary_df['department']== 'global_rate_negative_words',['weekday','weekend']] =  summary_df.loc[summary_df['department']== 'global_rate_negative_words',['weekday','weekend']]*100\n",
    "summary_df.loc[summary_df['department']== 'avg_positive_polarity',['weekday','weekend']] =  summary_df.loc[summary_df['department']== 'avg_positive_polarity',['weekday','weekend']]*100\n",
    "summary_df.loc[summary_df['department']== 'avg_negative_polarity',['weekday','weekend']] =  summary_df.loc[summary_df['department']== 'avg_negative_polarity',['weekday','weekend']]*(-100)\n",
    "summary_df.loc[summary_df['department']== 'abs_title_subjectivity',['weekday','weekend']] =  summary_df.loc[summary_df['department']== 'abs_title_subjectivity',['weekday','weekend']]*100\n",
    "summary_df.loc[summary_df['department']== 'abs_title_sentiment_polarity',['weekday','weekend']] =  summary_df.loc[summary_df['department']== 'abs_title_sentiment_polarity',['weekday','weekend']]*100\n",
    "#summary_df.loc[summary_df['department']== 'log_shares',['weekday','weekend']] =  summary_df.loc[summary_df['department']== 'log_shares',['weekday','weekend']]*100"
   ]
  },
  {
   "cell_type": "code",
   "execution_count": 212,
   "metadata": {},
   "outputs": [
    {
     "data": {
      "text/html": [
       "<div>\n",
       "<style>\n",
       "    .dataframe thead tr:only-child th {\n",
       "        text-align: right;\n",
       "    }\n",
       "\n",
       "    .dataframe thead th {\n",
       "        text-align: left;\n",
       "    }\n",
       "\n",
       "    .dataframe tbody tr th {\n",
       "        vertical-align: top;\n",
       "    }\n",
       "</style>\n",
       "<table border=\"1\" class=\"dataframe\">\n",
       "  <thead>\n",
       "    <tr style=\"text-align: right;\">\n",
       "      <th></th>\n",
       "      <th>department</th>\n",
       "      <th>weekday</th>\n",
       "      <th>weekend</th>\n",
       "    </tr>\n",
       "  </thead>\n",
       "  <tbody>\n",
       "    <tr>\n",
       "      <th>0</th>\n",
       "      <td>num_imgs</td>\n",
       "      <td>4.372439</td>\n",
       "      <td>5.684008</td>\n",
       "    </tr>\n",
       "    <tr>\n",
       "      <th>1</th>\n",
       "      <td>num_videos</td>\n",
       "      <td>1.275469</td>\n",
       "      <td>1.079961</td>\n",
       "    </tr>\n",
       "    <tr>\n",
       "      <th>2</th>\n",
       "      <td>data_channel_is_lifestyle</td>\n",
       "      <td>4.954432</td>\n",
       "      <td>7.552987</td>\n",
       "    </tr>\n",
       "    <tr>\n",
       "      <th>3</th>\n",
       "      <td>data_channel_is_entertainment</td>\n",
       "      <td>17.823765</td>\n",
       "      <td>17.649326</td>\n",
       "    </tr>\n",
       "    <tr>\n",
       "      <th>4</th>\n",
       "      <td>data_channel_is_bus</td>\n",
       "      <td>16.462530</td>\n",
       "      <td>11.290944</td>\n",
       "    </tr>\n",
       "    <tr>\n",
       "      <th>5</th>\n",
       "      <td>data_channel_is_socmed</td>\n",
       "      <td>5.822256</td>\n",
       "      <td>6.107900</td>\n",
       "    </tr>\n",
       "    <tr>\n",
       "      <th>6</th>\n",
       "      <td>data_channel_is_tech</td>\n",
       "      <td>18.648052</td>\n",
       "      <td>17.745665</td>\n",
       "    </tr>\n",
       "    <tr>\n",
       "      <th>7</th>\n",
       "      <td>data_channel_is_world</td>\n",
       "      <td>21.306670</td>\n",
       "      <td>20.924855</td>\n",
       "    </tr>\n",
       "    <tr>\n",
       "      <th>9</th>\n",
       "      <td>global_subjectivity</td>\n",
       "      <td>44.245823</td>\n",
       "      <td>44.942433</td>\n",
       "    </tr>\n",
       "    <tr>\n",
       "      <th>10</th>\n",
       "      <td>global_sentiment_polarity</td>\n",
       "      <td>11.848423</td>\n",
       "      <td>12.478635</td>\n",
       "    </tr>\n",
       "    <tr>\n",
       "      <th>11</th>\n",
       "      <td>global_rate_positive_words</td>\n",
       "      <td>3.938991</td>\n",
       "      <td>4.118439</td>\n",
       "    </tr>\n",
       "    <tr>\n",
       "      <th>12</th>\n",
       "      <td>global_rate_negative_words</td>\n",
       "      <td>1.656447</td>\n",
       "      <td>1.692847</td>\n",
       "    </tr>\n",
       "    <tr>\n",
       "      <th>13</th>\n",
       "      <td>avg_positive_polarity</td>\n",
       "      <td>35.269219</td>\n",
       "      <td>36.134475</td>\n",
       "    </tr>\n",
       "    <tr>\n",
       "      <th>14</th>\n",
       "      <td>avg_negative_polarity</td>\n",
       "      <td>25.825207</td>\n",
       "      <td>26.796885</td>\n",
       "    </tr>\n",
       "    <tr>\n",
       "      <th>15</th>\n",
       "      <td>abs_title_subjectivity</td>\n",
       "      <td>34.440840</td>\n",
       "      <td>32.481066</td>\n",
       "    </tr>\n",
       "    <tr>\n",
       "      <th>16</th>\n",
       "      <td>abs_title_sentiment_polarity</td>\n",
       "      <td>15.285884</td>\n",
       "      <td>17.733899</td>\n",
       "    </tr>\n",
       "    <tr>\n",
       "      <th>17</th>\n",
       "      <td>log_shares</td>\n",
       "      <td>3.228348</td>\n",
       "      <td>3.365385</td>\n",
       "    </tr>\n",
       "  </tbody>\n",
       "</table>\n",
       "</div>"
      ],
      "text/plain": [
       "                       department    weekday    weekend\n",
       "0                        num_imgs   4.372439   5.684008\n",
       "1                      num_videos   1.275469   1.079961\n",
       "2       data_channel_is_lifestyle   4.954432   7.552987\n",
       "3   data_channel_is_entertainment  17.823765  17.649326\n",
       "4             data_channel_is_bus  16.462530  11.290944\n",
       "5          data_channel_is_socmed   5.822256   6.107900\n",
       "6            data_channel_is_tech  18.648052  17.745665\n",
       "7           data_channel_is_world  21.306670  20.924855\n",
       "9             global_subjectivity  44.245823  44.942433\n",
       "10      global_sentiment_polarity  11.848423  12.478635\n",
       "11     global_rate_positive_words   3.938991   4.118439\n",
       "12     global_rate_negative_words   1.656447   1.692847\n",
       "13          avg_positive_polarity  35.269219  36.134475\n",
       "14          avg_negative_polarity  25.825207  26.796885\n",
       "15         abs_title_subjectivity  34.440840  32.481066\n",
       "16   abs_title_sentiment_polarity  15.285884  17.733899\n",
       "17                     log_shares   3.228348   3.365385"
      ]
     },
     "execution_count": 212,
     "metadata": {},
     "output_type": "execute_result"
    }
   ],
   "source": [
    "#summary_df.drop(['is_weekend'],axis =0)\n",
    "summary_df = summary_df.drop(8)\n",
    "#summary_df.to_excel('./output.xlsx')\n",
    "summary_df\n"
   ]
  },
  {
   "cell_type": "code",
   "execution_count": 213,
   "metadata": {},
   "outputs": [
    {
     "data": {
      "image/png": "[encoded data removed]",
      "text/plain": [
       "<matplotlib.figure.Figure at 0x1c7794bb2e8>"
      ]
     },
     "metadata": {},
     "output_type": "display_data"
    }
   ],
   "source": [
    "import numpy as np\n",
    "import matplotlib.pyplot as plt\n",
    "\n",
    "N = 17\n",
    "weekday = summary_df['weekday'].values\n",
    "\n",
    "ind = np.arange(N)  # the x locations for the groups\n",
    "width = 0.30      # the width of the bars\n",
    "\n",
    "fig, ax = plt.subplots(figsize =(20,10))\n",
    "rects1 = ax.bar(ind, weekday, width, color='g')\n",
    "\n",
    "weekend = summary_df['weekend'].values\n",
    "rects2 = ax.bar(ind + width, weekend, width, color='b')\n",
    "\n",
    "# add some text for labels, title and axes ticks\n",
    "ax.set_ylabel('% of shares')\n",
    "ax.set_title('News popularity')\n",
    "ax.set_xticks(ind + width / 2)\n",
    "ax.set_xticklabels(('D1', 'D2', 'Lifestyle', 'Entertainment', 'Business','D6','D7','D8','D9','D10','D11','D12','D13','D14','Title_subjective','Sentiment_polarity','D17'))\n",
    "\n",
    "ax.legend((rects1[0], rects2[0]), ('weekday', 'weekend'))\n",
    "\n",
    "\n",
    "def autolabel(rects):\n",
    "    \"\"\"\n",
    "    Attach a text label above each bar displaying its height\n",
    "    \"\"\"\n",
    "    for rect in rects:\n",
    "        height = rect.get_height()\n",
    "        ax.text(rect.get_x() + rect.get_width()/2., 1*height,\n",
    "                '%d' % int(height),\n",
    "                ha='center', va='bottom')\n",
    "\n",
    "autolabel(rects1)\n",
    "autolabel(rects2)\n",
    "\n",
    "plt.show()"
   ]
  },
  {
   "cell_type": "code",
   "execution_count": null,
   "metadata": {
    "collapsed": true
   },
   "outputs": [],
   "source": []
  },
  {
   "cell_type": "code",
   "execution_count": null,
   "metadata": {
    "collapsed": true
   },
   "outputs": [],
   "source": []
  },
  {
   "cell_type": "raw",
   "metadata": {
    "collapsed": true
   },
   "source": [
    "# Classification model build-up\n"
   ]
  },
  {
   "cell_type": "code",
   "execution_count": 214,
   "metadata": {},
   "outputs": [
    {
     "data": {
      "text/plain": [
       "Index(['timedelta', 'n_tokens_title', 'n_tokens_content', 'n_unique_tokens',\n",
       "       'n_non_stop_words', 'n_non_stop_unique_tokens', 'num_hrefs',\n",
       "       'num_self_hrefs', 'num_imgs', 'num_videos', 'average_token_length',\n",
       "       'num_keywords', 'data_channel_is_lifestyle',\n",
       "       'data_channel_is_entertainment', 'data_channel_is_bus',\n",
       "       'data_channel_is_socmed', 'data_channel_is_tech',\n",
       "       'data_channel_is_world', 'kw_min_min', 'kw_max_min', 'kw_avg_min',\n",
       "       'kw_min_max', 'kw_max_max', 'kw_avg_max', 'kw_min_avg', 'kw_max_avg',\n",
       "       'kw_avg_avg', 'self_reference_min_shares', 'self_reference_max_shares',\n",
       "       'self_reference_avg_sharess', 'weekday_is_monday', 'weekday_is_tuesday',\n",
       "       'weekday_is_wednesday', 'weekday_is_thursday', 'weekday_is_friday',\n",
       "       'weekday_is_saturday', 'weekday_is_sunday', 'is_weekend', 'LDA_00',\n",
       "       'LDA_01', 'LDA_02', 'LDA_03', 'LDA_04', 'global_subjectivity',\n",
       "       'global_sentiment_polarity', 'global_rate_positive_words',\n",
       "       'global_rate_negative_words', 'rate_positive_words',\n",
       "       'rate_negative_words', 'avg_positive_polarity', 'min_positive_polarity',\n",
       "       'max_positive_polarity', 'avg_negative_polarity',\n",
       "       'min_negative_polarity', 'max_negative_polarity', 'title_subjectivity',\n",
       "       'title_sentiment_polarity', 'abs_title_subjectivity',\n",
       "       'abs_title_sentiment_polarity', 'shares', 'log_shares'],\n",
       "      dtype='object')"
      ]
     },
     "execution_count": 214,
     "metadata": {},
     "output_type": "execute_result"
    }
   ],
   "source": [
    "data_class.columns"
   ]
  },
  {
   "cell_type": "code",
   "execution_count": 215,
   "metadata": {
    "collapsed": true
   },
   "outputs": [],
   "source": [
    "data_class.drop(data_class.columns[[0,1,2,3,4,5,6,7,10,11,12,13,14,15,16,17,18,19,20,21,22,23,24,25,26,27,28,29,37,38,39,40,41,42,50,51,53,53,55,56]],axis=1,inplace = True)"
   ]
  },
  {
   "cell_type": "code",
   "execution_count": 216,
   "metadata": {},
   "outputs": [
    {
     "data": {
      "text/html": [
       "<div>\n",
       "<style>\n",
       "    .dataframe thead tr:only-child th {\n",
       "        text-align: right;\n",
       "    }\n",
       "\n",
       "    .dataframe thead th {\n",
       "        text-align: left;\n",
       "    }\n",
       "\n",
       "    .dataframe tbody tr th {\n",
       "        vertical-align: top;\n",
       "    }\n",
       "</style>\n",
       "<table border=\"1\" class=\"dataframe\">\n",
       "  <thead>\n",
       "    <tr style=\"text-align: right;\">\n",
       "      <th></th>\n",
       "      <th>num_imgs</th>\n",
       "      <th>num_videos</th>\n",
       "      <th>weekday_is_monday</th>\n",
       "      <th>weekday_is_tuesday</th>\n",
       "      <th>weekday_is_wednesday</th>\n",
       "      <th>weekday_is_thursday</th>\n",
       "      <th>weekday_is_friday</th>\n",
       "      <th>weekday_is_saturday</th>\n",
       "      <th>weekday_is_sunday</th>\n",
       "      <th>global_subjectivity</th>\n",
       "      <th>...</th>\n",
       "      <th>global_rate_negative_words</th>\n",
       "      <th>rate_positive_words</th>\n",
       "      <th>rate_negative_words</th>\n",
       "      <th>avg_positive_polarity</th>\n",
       "      <th>avg_negative_polarity</th>\n",
       "      <th>max_negative_polarity</th>\n",
       "      <th>abs_title_subjectivity</th>\n",
       "      <th>abs_title_sentiment_polarity</th>\n",
       "      <th>shares</th>\n",
       "      <th>log_shares</th>\n",
       "    </tr>\n",
       "  </thead>\n",
       "  <tbody>\n",
       "    <tr>\n",
       "      <th>count</th>\n",
       "      <td>39644.000000</td>\n",
       "      <td>39644.000000</td>\n",
       "      <td>39644.000000</td>\n",
       "      <td>39644.000000</td>\n",
       "      <td>39644.000000</td>\n",
       "      <td>39644.000000</td>\n",
       "      <td>39644.000000</td>\n",
       "      <td>39644.000000</td>\n",
       "      <td>39644.000000</td>\n",
       "      <td>39644.000000</td>\n",
       "      <td>...</td>\n",
       "      <td>39644.000000</td>\n",
       "      <td>39644.000000</td>\n",
       "      <td>39644.000000</td>\n",
       "      <td>39644.000000</td>\n",
       "      <td>39644.000000</td>\n",
       "      <td>39644.000000</td>\n",
       "      <td>39644.000000</td>\n",
       "      <td>39644.000000</td>\n",
       "      <td>39644.000000</td>\n",
       "      <td>39644.000000</td>\n",
       "    </tr>\n",
       "    <tr>\n",
       "      <th>mean</th>\n",
       "      <td>4.544143</td>\n",
       "      <td>1.249874</td>\n",
       "      <td>0.168020</td>\n",
       "      <td>0.186409</td>\n",
       "      <td>0.187544</td>\n",
       "      <td>0.183306</td>\n",
       "      <td>0.143805</td>\n",
       "      <td>0.061876</td>\n",
       "      <td>0.069039</td>\n",
       "      <td>0.443370</td>\n",
       "      <td>...</td>\n",
       "      <td>0.016612</td>\n",
       "      <td>0.682150</td>\n",
       "      <td>0.287934</td>\n",
       "      <td>0.353825</td>\n",
       "      <td>-0.259524</td>\n",
       "      <td>-0.107500</td>\n",
       "      <td>0.341843</td>\n",
       "      <td>0.156064</td>\n",
       "      <td>3395.380184</td>\n",
       "      <td>3.246288</td>\n",
       "    </tr>\n",
       "    <tr>\n",
       "      <th>std</th>\n",
       "      <td>8.309434</td>\n",
       "      <td>4.107855</td>\n",
       "      <td>0.373889</td>\n",
       "      <td>0.389441</td>\n",
       "      <td>0.390353</td>\n",
       "      <td>0.386922</td>\n",
       "      <td>0.350896</td>\n",
       "      <td>0.240933</td>\n",
       "      <td>0.253524</td>\n",
       "      <td>0.116685</td>\n",
       "      <td>...</td>\n",
       "      <td>0.010828</td>\n",
       "      <td>0.190206</td>\n",
       "      <td>0.156156</td>\n",
       "      <td>0.104542</td>\n",
       "      <td>0.127726</td>\n",
       "      <td>0.095373</td>\n",
       "      <td>0.188791</td>\n",
       "      <td>0.226294</td>\n",
       "      <td>11626.950749</td>\n",
       "      <td>0.404105</td>\n",
       "    </tr>\n",
       "    <tr>\n",
       "      <th>min</th>\n",
       "      <td>0.000000</td>\n",
       "      <td>0.000000</td>\n",
       "      <td>0.000000</td>\n",
       "      <td>0.000000</td>\n",
       "      <td>0.000000</td>\n",
       "      <td>0.000000</td>\n",
       "      <td>0.000000</td>\n",
       "      <td>0.000000</td>\n",
       "      <td>0.000000</td>\n",
       "      <td>0.000000</td>\n",
       "      <td>...</td>\n",
       "      <td>0.000000</td>\n",
       "      <td>0.000000</td>\n",
       "      <td>0.000000</td>\n",
       "      <td>0.000000</td>\n",
       "      <td>-1.000000</td>\n",
       "      <td>-1.000000</td>\n",
       "      <td>0.000000</td>\n",
       "      <td>0.000000</td>\n",
       "      <td>1.000000</td>\n",
       "      <td>0.000000</td>\n",
       "    </tr>\n",
       "    <tr>\n",
       "      <th>25%</th>\n",
       "      <td>1.000000</td>\n",
       "      <td>0.000000</td>\n",
       "      <td>0.000000</td>\n",
       "      <td>0.000000</td>\n",
       "      <td>0.000000</td>\n",
       "      <td>0.000000</td>\n",
       "      <td>0.000000</td>\n",
       "      <td>0.000000</td>\n",
       "      <td>0.000000</td>\n",
       "      <td>0.396167</td>\n",
       "      <td>...</td>\n",
       "      <td>0.009615</td>\n",
       "      <td>0.600000</td>\n",
       "      <td>0.185185</td>\n",
       "      <td>0.306244</td>\n",
       "      <td>-0.328383</td>\n",
       "      <td>-0.125000</td>\n",
       "      <td>0.166667</td>\n",
       "      <td>0.000000</td>\n",
       "      <td>946.000000</td>\n",
       "      <td>2.975891</td>\n",
       "    </tr>\n",
       "    <tr>\n",
       "      <th>50%</th>\n",
       "      <td>1.000000</td>\n",
       "      <td>0.000000</td>\n",
       "      <td>0.000000</td>\n",
       "      <td>0.000000</td>\n",
       "      <td>0.000000</td>\n",
       "      <td>0.000000</td>\n",
       "      <td>0.000000</td>\n",
       "      <td>0.000000</td>\n",
       "      <td>0.000000</td>\n",
       "      <td>0.453457</td>\n",
       "      <td>...</td>\n",
       "      <td>0.015337</td>\n",
       "      <td>0.710526</td>\n",
       "      <td>0.280000</td>\n",
       "      <td>0.358755</td>\n",
       "      <td>-0.253333</td>\n",
       "      <td>-0.100000</td>\n",
       "      <td>0.500000</td>\n",
       "      <td>0.000000</td>\n",
       "      <td>1400.000000</td>\n",
       "      <td>3.146128</td>\n",
       "    </tr>\n",
       "    <tr>\n",
       "      <th>75%</th>\n",
       "      <td>4.000000</td>\n",
       "      <td>1.000000</td>\n",
       "      <td>0.000000</td>\n",
       "      <td>0.000000</td>\n",
       "      <td>0.000000</td>\n",
       "      <td>0.000000</td>\n",
       "      <td>0.000000</td>\n",
       "      <td>0.000000</td>\n",
       "      <td>0.000000</td>\n",
       "      <td>0.508333</td>\n",
       "      <td>...</td>\n",
       "      <td>0.021739</td>\n",
       "      <td>0.800000</td>\n",
       "      <td>0.384615</td>\n",
       "      <td>0.411428</td>\n",
       "      <td>-0.186905</td>\n",
       "      <td>-0.050000</td>\n",
       "      <td>0.500000</td>\n",
       "      <td>0.250000</td>\n",
       "      <td>2800.000000</td>\n",
       "      <td>3.447158</td>\n",
       "    </tr>\n",
       "    <tr>\n",
       "      <th>max</th>\n",
       "      <td>128.000000</td>\n",
       "      <td>91.000000</td>\n",
       "      <td>1.000000</td>\n",
       "      <td>1.000000</td>\n",
       "      <td>1.000000</td>\n",
       "      <td>1.000000</td>\n",
       "      <td>1.000000</td>\n",
       "      <td>1.000000</td>\n",
       "      <td>1.000000</td>\n",
       "      <td>1.000000</td>\n",
       "      <td>...</td>\n",
       "      <td>0.184932</td>\n",
       "      <td>1.000000</td>\n",
       "      <td>1.000000</td>\n",
       "      <td>1.000000</td>\n",
       "      <td>0.000000</td>\n",
       "      <td>0.000000</td>\n",
       "      <td>0.500000</td>\n",
       "      <td>1.000000</td>\n",
       "      <td>843300.000000</td>\n",
       "      <td>5.925982</td>\n",
       "    </tr>\n",
       "  </tbody>\n",
       "</table>\n",
       "<p>8 rows × 22 columns</p>\n",
       "</div>"
      ],
      "text/plain": [
       "           num_imgs    num_videos  weekday_is_monday  weekday_is_tuesday  \\\n",
       "count  39644.000000  39644.000000       39644.000000        39644.000000   \n",
       "mean       4.544143      1.249874           0.168020            0.186409   \n",
       "std        8.309434      4.107855           0.373889            0.389441   \n",
       "min        0.000000      0.000000           0.000000            0.000000   \n",
       "25%        1.000000      0.000000           0.000000            0.000000   \n",
       "50%        1.000000      0.000000           0.000000            0.000000   \n",
       "75%        4.000000      1.000000           0.000000            0.000000   \n",
       "max      128.000000     91.000000           1.000000            1.000000   \n",
       "\n",
       "       weekday_is_wednesday  weekday_is_thursday  weekday_is_friday  \\\n",
       "count          39644.000000         39644.000000       39644.000000   \n",
       "mean               0.187544             0.183306           0.143805   \n",
       "std                0.390353             0.386922           0.350896   \n",
       "min                0.000000             0.000000           0.000000   \n",
       "25%                0.000000             0.000000           0.000000   \n",
       "50%                0.000000             0.000000           0.000000   \n",
       "75%                0.000000             0.000000           0.000000   \n",
       "max                1.000000             1.000000           1.000000   \n",
       "\n",
       "       weekday_is_saturday  weekday_is_sunday  global_subjectivity  \\\n",
       "count         39644.000000       39644.000000         39644.000000   \n",
       "mean              0.061876           0.069039             0.443370   \n",
       "std               0.240933           0.253524             0.116685   \n",
       "min               0.000000           0.000000             0.000000   \n",
       "25%               0.000000           0.000000             0.396167   \n",
       "50%               0.000000           0.000000             0.453457   \n",
       "75%               0.000000           0.000000             0.508333   \n",
       "max               1.000000           1.000000             1.000000   \n",
       "\n",
       "           ...       global_rate_negative_words  rate_positive_words  \\\n",
       "count      ...                     39644.000000         39644.000000   \n",
       "mean       ...                         0.016612             0.682150   \n",
       "std        ...                         0.010828             0.190206   \n",
       "min        ...                         0.000000             0.000000   \n",
       "25%        ...                         0.009615             0.600000   \n",
       "50%        ...                         0.015337             0.710526   \n",
       "75%        ...                         0.021739             0.800000   \n",
       "max        ...                         0.184932             1.000000   \n",
       "\n",
       "       rate_negative_words  avg_positive_polarity  avg_negative_polarity  \\\n",
       "count         39644.000000           39644.000000           39644.000000   \n",
       "mean              0.287934               0.353825              -0.259524   \n",
       "std               0.156156               0.104542               0.127726   \n",
       "min               0.000000               0.000000              -1.000000   \n",
       "25%               0.185185               0.306244              -0.328383   \n",
       "50%               0.280000               0.358755              -0.253333   \n",
       "75%               0.384615               0.411428              -0.186905   \n",
       "max               1.000000               1.000000               0.000000   \n",
       "\n",
       "       max_negative_polarity  abs_title_subjectivity  \\\n",
       "count           39644.000000            39644.000000   \n",
       "mean               -0.107500                0.341843   \n",
       "std                 0.095373                0.188791   \n",
       "min                -1.000000                0.000000   \n",
       "25%                -0.125000                0.166667   \n",
       "50%                -0.100000                0.500000   \n",
       "75%                -0.050000                0.500000   \n",
       "max                 0.000000                0.500000   \n",
       "\n",
       "       abs_title_sentiment_polarity         shares    log_shares  \n",
       "count                  39644.000000   39644.000000  39644.000000  \n",
       "mean                       0.156064    3395.380184      3.246288  \n",
       "std                        0.226294   11626.950749      0.404105  \n",
       "min                        0.000000       1.000000      0.000000  \n",
       "25%                        0.000000     946.000000      2.975891  \n",
       "50%                        0.000000    1400.000000      3.146128  \n",
       "75%                        0.250000    2800.000000      3.447158  \n",
       "max                        1.000000  843300.000000      5.925982  \n",
       "\n",
       "[8 rows x 22 columns]"
      ]
     },
     "execution_count": 216,
     "metadata": {},
     "output_type": "execute_result"
    }
   ],
   "source": [
    "data_class.describe()"
   ]
  },
  {
   "cell_type": "code",
   "execution_count": 217,
   "metadata": {
    "collapsed": true
   },
   "outputs": [],
   "source": [
    "#data_class['share_level'] = (data_class['log_shares']<=2.5)*1\n",
    "#data_class['share_level'] = (data_class['log_shares']>=4.5)*1\n",
    "#data_class['share_level'] = ((data_class['log_shares']>3.1) & (data_class['log_shares']<4.5))*1\n",
    "#data_class['share_level'] = ((data_class['log_shares']>2.5) & (data_class['log_shares']<=3.1))*1\n",
    "\n",
    "data_class['share_rank'] = (data_class['log_shares']<=2.5)*1 | ((data_class['log_shares']>2.5) & (data_class['log_shares']<=3.2))*2 | ((data_class['log_shares']>3.2) & (data_class['log_shares']<4.5))*3 |(data_class['log_shares']>=4.5)*4"
   ]
  },
  {
   "cell_type": "code",
   "execution_count": 218,
   "metadata": {},
   "outputs": [
    {
     "data": {
      "image/png": "[encoded data removed]",
      "text/plain": [
       "<matplotlib.figure.Figure at 0x1c7792a7630>"
      ]
     },
     "metadata": {},
     "output_type": "display_data"
    }
   ],
   "source": [
    "import numpy as np\n",
    "import matplotlib.mlab as mlab\n",
    "import matplotlib.pyplot as plt\n",
    "\n",
    "plt.hist(data_class['share_rank'])\n",
    "plt.xlabel('Rank')\n",
    "plt.ylabel('No of shares')\n",
    "plt.title('log_news_share distribution')\n",
    "plt.show()"
   ]
  },
  {
   "cell_type": "code",
   "execution_count": 219,
   "metadata": {},
   "outputs": [
    {
     "data": {
      "text/plain": [
       "pandas.core.frame.DataFrame"
      ]
     },
     "execution_count": 219,
     "metadata": {},
     "output_type": "execute_result"
    }
   ],
   "source": [
    "y = data_class[['share_rank']].copy()\n",
    "type(y)"
   ]
  },
  {
   "cell_type": "code",
   "execution_count": 220,
   "metadata": {
    "collapsed": true
   },
   "outputs": [],
   "source": [
    "data_class.columns\n",
    "influence_features = ['num_imgs', 'num_videos', 'weekday_is_monday',\n",
    "       'weekday_is_tuesday', 'weekday_is_wednesday', 'weekday_is_thursday',\n",
    "       'weekday_is_friday', 'weekday_is_saturday', 'weekday_is_sunday',\n",
    "       'global_subjectivity', 'global_sentiment_polarity',\n",
    "       'global_rate_positive_words', 'global_rate_negative_words',\n",
    "       'rate_positive_words', 'rate_negative_words', 'avg_positive_polarity',\n",
    "       'avg_negative_polarity', 'max_negative_polarity',\n",
    "       'abs_title_subjectivity', 'abs_title_sentiment_polarity']"
   ]
  },
  {
   "cell_type": "code",
   "execution_count": 221,
   "metadata": {},
   "outputs": [
    {
     "data": {
      "text/plain": [
       "pandas.core.frame.DataFrame"
      ]
     },
     "execution_count": 221,
     "metadata": {},
     "output_type": "execute_result"
    }
   ],
   "source": [
    "X = data_class[influence_features].copy()\n",
    "type(X)"
   ]
  },
  {
   "cell_type": "code",
   "execution_count": 222,
   "metadata": {},
   "outputs": [
    {
     "data": {
      "text/plain": [
       "Index(['num_imgs', 'num_videos', 'weekday_is_monday', 'weekday_is_tuesday',\n",
       "       'weekday_is_wednesday', 'weekday_is_thursday', 'weekday_is_friday',\n",
       "       'weekday_is_saturday', 'weekday_is_sunday', 'global_subjectivity',\n",
       "       'global_sentiment_polarity', 'global_rate_positive_words',\n",
       "       'global_rate_negative_words', 'rate_positive_words',\n",
       "       'rate_negative_words', 'avg_positive_polarity', 'avg_negative_polarity',\n",
       "       'max_negative_polarity', 'abs_title_subjectivity',\n",
       "       'abs_title_sentiment_polarity'],\n",
       "      dtype='object')"
      ]
     },
     "execution_count": 222,
     "metadata": {},
     "output_type": "execute_result"
    }
   ],
   "source": [
    "X.columns"
   ]
  },
  {
   "cell_type": "code",
   "execution_count": 223,
   "metadata": {},
   "outputs": [
    {
     "data": {
      "text/plain": [
       "Index(['share_rank'], dtype='object')"
      ]
     },
     "execution_count": 223,
     "metadata": {},
     "output_type": "execute_result"
    }
   ],
   "source": [
    "y.columns"
   ]
  },
  {
   "cell_type": "code",
   "execution_count": 224,
   "metadata": {
    "collapsed": true
   },
   "outputs": [],
   "source": [
    "X_train, X_test, y_train, y_test = train_test_split(X, y, test_size=0.10, random_state=324)"
   ]
  },
  {
   "cell_type": "code",
   "execution_count": 225,
   "metadata": {},
   "outputs": [
    {
     "data": {
      "text/plain": [
       "DecisionTreeClassifier(class_weight=None, criterion='gini', max_depth=None,\n",
       "            max_features=None, max_leaf_nodes=10,\n",
       "            min_impurity_decrease=0.0, min_impurity_split=None,\n",
       "            min_samples_leaf=1, min_samples_split=2,\n",
       "            min_weight_fraction_leaf=0.0, presort=False, random_state=0,\n",
       "            splitter='best')"
      ]
     },
     "execution_count": 225,
     "metadata": {},
     "output_type": "execute_result"
    }
   ],
   "source": [
    "rank_classifier = DecisionTreeClassifier(max_leaf_nodes=10, random_state=0)\n",
    "rank_classifier.fit(X_train,y_train)"
   ]
  },
  {
   "cell_type": "code",
   "execution_count": 226,
   "metadata": {},
   "outputs": [
    {
     "data": {
      "text/plain": [
       "sklearn.tree.tree.DecisionTreeClassifier"
      ]
     },
     "execution_count": 226,
     "metadata": {},
     "output_type": "execute_result"
    }
   ],
   "source": [
    "type(rank_classifier)"
   ]
  },
  {
   "cell_type": "code",
   "execution_count": 227,
   "metadata": {
    "collapsed": true
   },
   "outputs": [],
   "source": [
    "Predictions = rank_classifier.predict(X_test)"
   ]
  },
  {
   "cell_type": "code",
   "execution_count": 228,
   "metadata": {},
   "outputs": [
    {
     "data": {
      "text/plain": [
       "array([2, 3, 2, 3, 2, 3, 2, 2, 2, 3])"
      ]
     },
     "execution_count": 228,
     "metadata": {},
     "output_type": "execute_result"
    }
   ],
   "source": [
    "Predictions[:10]"
   ]
  },
  {
   "cell_type": "code",
   "execution_count": 229,
   "metadata": {},
   "outputs": [
    {
     "data": {
      "text/plain": [
       "35205    3\n",
       "15882    3\n",
       "23584    2\n",
       "25354    2\n",
       "25593    2\n",
       "22305    3\n",
       "27533    3\n",
       "36710    2\n",
       "12978    2\n",
       "13322    2\n",
       "Name: share_rank, dtype: int32"
      ]
     },
     "execution_count": 229,
     "metadata": {},
     "output_type": "execute_result"
    }
   ],
   "source": [
    "y_test['share_rank'][:10]"
   ]
  },
  {
   "cell_type": "code",
   "execution_count": 230,
   "metadata": {},
   "outputs": [
    {
     "data": {
      "text/plain": [
       "0.59167717528373265"
      ]
     },
     "execution_count": 230,
     "metadata": {},
     "output_type": "execute_result"
    }
   ],
   "source": [
    "accuracy_score(y_true = y_test, y_pred = Predictions)"
   ]
  }
 ],
 "metadata": {
  "kernelspec": {
   "display_name": "Python 3",
   "language": "python",
   "name": "python3"
  },
  "language_info": {
   "codemirror_mode": {
    "name": "ipython",
    "version": 3
   },
   "file_extension": ".py",
   "mimetype": "text/x-python",
   "name": "python",
   "nbconvert_exporter": "python",
   "pygments_lexer": "ipython3",
   "version": "3.6.3"
  }
 },
 "nbformat": 4,
 "nbformat_minor": 2
}
